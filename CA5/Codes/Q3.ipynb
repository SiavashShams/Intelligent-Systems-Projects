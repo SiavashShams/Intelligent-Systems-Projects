{
  "nbformat": 4,
  "nbformat_minor": 0,
  "metadata": {
    "kernelspec": {
      "display_name": "Python 3",
      "language": "python",
      "name": "python3"
    },
    "language_info": {
      "codemirror_mode": {
        "name": "ipython",
        "version": 3
      },
      "file_extension": ".py",
      "mimetype": "text/x-python",
      "name": "python",
      "nbconvert_exporter": "python",
      "pygments_lexer": "ipython3",
      "version": "3.7.6"
    },
    "colab": {
      "name": "Environment.ipynb",
      "provenance": [],
      "collapsed_sections": []
    },
    "accelerator": "GPU"
  },
  "cells": [
    {
      "cell_type": "markdown",
      "metadata": {
        "id": "0DyDmR_YzcNU"
      },
      "source": [
        "##  <font color=MediumSlateBlue>Importing Libraries</font> ##"
      ]
    },
    {
      "cell_type": "code",
      "source": [
        "!pip install colorama\n",
        "import random\n",
        "import pprint\n",
        "import io\n",
        "import numpy as np\n",
        "import sys\n",
        "from gym.envs.toy_text import discrete\n",
        "from colorama import Fore, Back, Style\n",
        "import matplotlib.pyplot as plt\n"
      ],
      "metadata": {
        "id": "JEjw5xth6UYe",
        "colab": {
          "base_uri": "https://localhost:8080/"
        },
        "outputId": "f899a3b6-5d84-4739-b39a-4c96cfa8d514"
      },
      "execution_count": 1,
      "outputs": [
        {
          "output_type": "stream",
          "name": "stdout",
          "text": [
            "Collecting colorama\n",
            "  Downloading colorama-0.4.4-py2.py3-none-any.whl (16 kB)\n",
            "Installing collected packages: colorama\n",
            "Successfully installed colorama-0.4.4\n"
          ]
        }
      ]
    },
    {
      "cell_type": "markdown",
      "metadata": {
        "id": "T0tArlRA6iUs"
      },
      "source": [
        "##  <font color=MediumSlateBlue>Directions</font> ##"
      ]
    },
    {
      "cell_type": "code",
      "source": [
        "UP = 0\n",
        "RIGHT = 1\n",
        "DOWN = 2\n",
        "LEFT = 3"
      ],
      "metadata": {
        "id": "0qVDxrpR6dGP"
      },
      "execution_count": 2,
      "outputs": []
    },
    {
      "cell_type": "markdown",
      "metadata": {
        "id": "wzvRy5J86zZy"
      },
      "source": [
        "##  <font color=MediumSlateBlue>Environment</font> ##"
      ]
    },
    {
      "cell_type": "code",
      "metadata": {
        "id": "PpNeLPdclEYF"
      },
      "source": [
        "class GridworldEnv(discrete.DiscreteEnv):\n",
        "  metadata = {'render.modes': ['human', 'ansi']}\n",
        "\n",
        "  def __init__(self, shape=[10,10]):\n",
        "    if not isinstance(shape, (list, tuple)) or not len(shape) == 2:\n",
        "        raise ValueError('shape argument must be a list/tuple of length 2')\n",
        "        \n",
        "    self.shape = shape\n",
        "\n",
        "    nS = np.prod(shape)\n",
        "    nA = 4\n",
        "\n",
        "    MAX_Y = shape[0]\n",
        "    MAX_X = shape[1]\n",
        "\n",
        "    P = {}\n",
        "    grid = np.arange(nS).reshape(shape)\n",
        "    it = np.nditer(grid, flags=['multi_index'])\n",
        "\n",
        "    while not it.finished:\n",
        "      s = it.iterindex\n",
        "      y, x = it.multi_index\n",
        "\n",
        "      # P[s][a] = (prob, next_state, reward, is_done)\n",
        "      P[s] = {a : [] for a in range(nA)}\n",
        "\n",
        "      #Reaching target\n",
        "      is_done = lambda s: s == 0\n",
        "\n",
        "      #Due to existance of walls, these moves are not available\n",
        "      no_up = lambda s: s in [44,45,63,64]\n",
        "      no_down = lambda s: s in [23,24,25,44]\n",
        "      no_left = lambda s: s in [44,36,55]\n",
        "      no_right = lambda s: s in [32,42,52]\n",
        "\n",
        "      #Barries in the path\n",
        "      pit = lambda s: s in [13,62,41]\n",
        "      wall = lambda s: s in [43,33,53,34,35,54]\n",
        "\n",
        "      #Rewards of each state\n",
        "      reward = 1.0 if is_done(s) else 0.0\n",
        "      reward = -10.0 if pit(s) else reward\n",
        "      \n",
        "      ns_up = s if y == 0 else s - MAX_X\n",
        "      ns_right = s if x == (MAX_X - 1) else s + 1\n",
        "      ns_down = s if y == (MAX_Y - 1) else s + MAX_X\n",
        "      ns_left = s if x == 0 else s - 1\n",
        "      \n",
        "      P[s][UP] = [(1, ns_up, reward, is_done(ns_up))]\n",
        "      P[s][RIGHT] = [(1.0, ns_right, reward, is_done(ns_right))]\n",
        "      P[s][DOWN] = [(1, ns_down, reward, is_done(ns_down))]\n",
        "      P[s][LEFT] = [(1, ns_left, reward, is_done(ns_left))]\n",
        "\n",
        "      #Terminal state\n",
        "      if is_done(s):\n",
        "        P[s][UP] = [(1.0, s, reward, True)]\n",
        "        P[s][RIGHT] = [(1.0, s, reward, True)]\n",
        "        P[s][DOWN] = [(1.0, s, reward, True)]\n",
        "        P[s][LEFT] = [(1.0, s, reward, True)]\n",
        "\n",
        "      #Encountering walls\n",
        "      if no_up(s):\n",
        "        P[s][UP] = [(1.0, s, -3.0 , False)]                \n",
        "      if no_down(s):\n",
        "        P[s][DOWN] = [(1.0, s, -3.0 , False)]                \n",
        "      if no_right(s):\n",
        "        P[s][RIGHT] = [(1.0, s, -3.0 , False)]  \n",
        "      if no_left(s):\n",
        "        P[s][LEFT] = [(1.0, s, -3.0 , False)] \n",
        "\n",
        "      it.iternext() \n",
        "\n",
        "    # Initial state distribution is uniform\n",
        "    isd = np.zeros(100)\n",
        "    isd[44]=1\n",
        "    self.P = P\n",
        "\n",
        "    super(GridworldEnv, self).__init__(nS, nA, P, isd)\n",
        "\n",
        "  def _render(self, mode='human', close=False):\n",
        "    if close:\n",
        "      return\n",
        "\n",
        "    outfile = io.StringIO() if mode == 'ansi' else sys.stdout\n",
        "\n",
        "    grid = np.arange(self.nS).reshape(self.shape)\n",
        "    it = np.nditer(grid, flags=['multi_index'])\n",
        "\n",
        "    while not it.finished:\n",
        "      s = it.iterindex\n",
        "      y, x = it.multi_index\n",
        "\n",
        "      if self.s == s and not s==0:\n",
        "        output =  Back.CYAN + Style.BRIGHT + Fore.WHITE +  \"  웃 \" + Style.RESET_ALL if s not in [13,62,41] else Back.BLUE + Style.BRIGHT + Fore.WHITE + \"  웃 \" + Style.RESET_ALL\n",
        "      elif s == 0:\n",
        "          output = Back.GREEN + Style.BRIGHT + Fore.WHITE + \"     \" + Style.RESET_ALL if not self.s==0 else Back.GREEN + Style.BRIGHT + Fore.WHITE +  \"  웃 \" + Style.RESET_ALL\n",
        "      elif s in [13,62,41]:\n",
        "          output = Back.BLUE + \"     \" + Style.RESET_ALL\n",
        "      elif s in [43,33,53,34,35,54]:\n",
        "          output = Back.CYAN + Style.BRIGHT + Fore.BLACK +   \"  █  \"  + Style.RESET_ALL\n",
        "      else:\n",
        "          output = Back.CYAN + Style.BRIGHT + Fore.BLACK +  \"  .  \" + Style.RESET_ALL\n",
        "\n",
        "      if x == 0:\n",
        "          output = output.lstrip()\n",
        "      if x == self.shape[1] - 1:\n",
        "          output = output.rstrip()\n",
        "\n",
        "      outfile.write(output)\n",
        "\n",
        "      if x == self.shape[1] - 1:\n",
        "          outfile.write(\"\\n\")\n",
        "\n",
        "      it.iternext()"
      ],
      "execution_count": 3,
      "outputs": []
    },
    {
      "cell_type": "markdown",
      "metadata": {
        "id": "T_-Io6eu6Muz"
      },
      "source": [
        "##  <font color=MediumSlateBlue>How to use the above class?</font> ##"
      ]
    },
    {
      "cell_type": "code",
      "metadata": {
        "colab": {
          "base_uri": "https://localhost:8080/"
        },
        "id": "eoM-4yHklEYM",
        "outputId": "74d6c5bf-bea3-477d-bd6a-801a0d327c30"
      },
      "source": [
        "env =  GridworldEnv()\n",
        "env.reset()\n",
        "env._render()\n",
        "\n",
        "for _ in range(3):\n",
        "    action = env.action_space.sample()\n",
        "    state, reward, done, info = env.step(action) # Take a random action\n",
        "    print(state)\n",
        "    print('action:',action)\n",
        "    #env._render()\n",
        "env.close()\n"
      ],
      "execution_count": 4,
      "outputs": [
        {
          "output_type": "stream",
          "name": "stdout",
          "text": [
            "\u001b[42m\u001b[1m\u001b[37m     \u001b[0m\u001b[46m\u001b[1m\u001b[30m  .  \u001b[0m\u001b[46m\u001b[1m\u001b[30m  .  \u001b[0m\u001b[46m\u001b[1m\u001b[30m  .  \u001b[0m\u001b[46m\u001b[1m\u001b[30m  .  \u001b[0m\u001b[46m\u001b[1m\u001b[30m  .  \u001b[0m\u001b[46m\u001b[1m\u001b[30m  .  \u001b[0m\u001b[46m\u001b[1m\u001b[30m  .  \u001b[0m\u001b[46m\u001b[1m\u001b[30m  .  \u001b[0m\u001b[46m\u001b[1m\u001b[30m  .  \u001b[0m\n",
            "\u001b[46m\u001b[1m\u001b[30m  .  \u001b[0m\u001b[46m\u001b[1m\u001b[30m  .  \u001b[0m\u001b[46m\u001b[1m\u001b[30m  .  \u001b[0m\u001b[44m     \u001b[0m\u001b[46m\u001b[1m\u001b[30m  .  \u001b[0m\u001b[46m\u001b[1m\u001b[30m  .  \u001b[0m\u001b[46m\u001b[1m\u001b[30m  .  \u001b[0m\u001b[46m\u001b[1m\u001b[30m  .  \u001b[0m\u001b[46m\u001b[1m\u001b[30m  .  \u001b[0m\u001b[46m\u001b[1m\u001b[30m  .  \u001b[0m\n",
            "\u001b[46m\u001b[1m\u001b[30m  .  \u001b[0m\u001b[46m\u001b[1m\u001b[30m  .  \u001b[0m\u001b[46m\u001b[1m\u001b[30m  .  \u001b[0m\u001b[46m\u001b[1m\u001b[30m  .  \u001b[0m\u001b[46m\u001b[1m\u001b[30m  .  \u001b[0m\u001b[46m\u001b[1m\u001b[30m  .  \u001b[0m\u001b[46m\u001b[1m\u001b[30m  .  \u001b[0m\u001b[46m\u001b[1m\u001b[30m  .  \u001b[0m\u001b[46m\u001b[1m\u001b[30m  .  \u001b[0m\u001b[46m\u001b[1m\u001b[30m  .  \u001b[0m\n",
            "\u001b[46m\u001b[1m\u001b[30m  .  \u001b[0m\u001b[46m\u001b[1m\u001b[30m  .  \u001b[0m\u001b[46m\u001b[1m\u001b[30m  .  \u001b[0m\u001b[46m\u001b[1m\u001b[30m  █  \u001b[0m\u001b[46m\u001b[1m\u001b[30m  █  \u001b[0m\u001b[46m\u001b[1m\u001b[30m  █  \u001b[0m\u001b[46m\u001b[1m\u001b[30m  .  \u001b[0m\u001b[46m\u001b[1m\u001b[30m  .  \u001b[0m\u001b[46m\u001b[1m\u001b[30m  .  \u001b[0m\u001b[46m\u001b[1m\u001b[30m  .  \u001b[0m\n",
            "\u001b[46m\u001b[1m\u001b[30m  .  \u001b[0m\u001b[44m     \u001b[0m\u001b[46m\u001b[1m\u001b[30m  .  \u001b[0m\u001b[46m\u001b[1m\u001b[30m  █  \u001b[0m\u001b[46m\u001b[1m\u001b[37m  웃 \u001b[0m\u001b[46m\u001b[1m\u001b[30m  .  \u001b[0m\u001b[46m\u001b[1m\u001b[30m  .  \u001b[0m\u001b[46m\u001b[1m\u001b[30m  .  \u001b[0m\u001b[46m\u001b[1m\u001b[30m  .  \u001b[0m\u001b[46m\u001b[1m\u001b[30m  .  \u001b[0m\n",
            "\u001b[46m\u001b[1m\u001b[30m  .  \u001b[0m\u001b[46m\u001b[1m\u001b[30m  .  \u001b[0m\u001b[46m\u001b[1m\u001b[30m  .  \u001b[0m\u001b[46m\u001b[1m\u001b[30m  █  \u001b[0m\u001b[46m\u001b[1m\u001b[30m  █  \u001b[0m\u001b[46m\u001b[1m\u001b[30m  .  \u001b[0m\u001b[46m\u001b[1m\u001b[30m  .  \u001b[0m\u001b[46m\u001b[1m\u001b[30m  .  \u001b[0m\u001b[46m\u001b[1m\u001b[30m  .  \u001b[0m\u001b[46m\u001b[1m\u001b[30m  .  \u001b[0m\n",
            "\u001b[46m\u001b[1m\u001b[30m  .  \u001b[0m\u001b[46m\u001b[1m\u001b[30m  .  \u001b[0m\u001b[44m     \u001b[0m\u001b[46m\u001b[1m\u001b[30m  .  \u001b[0m\u001b[46m\u001b[1m\u001b[30m  .  \u001b[0m\u001b[46m\u001b[1m\u001b[30m  .  \u001b[0m\u001b[46m\u001b[1m\u001b[30m  .  \u001b[0m\u001b[46m\u001b[1m\u001b[30m  .  \u001b[0m\u001b[46m\u001b[1m\u001b[30m  .  \u001b[0m\u001b[46m\u001b[1m\u001b[30m  .  \u001b[0m\n",
            "\u001b[46m\u001b[1m\u001b[30m  .  \u001b[0m\u001b[46m\u001b[1m\u001b[30m  .  \u001b[0m\u001b[46m\u001b[1m\u001b[30m  .  \u001b[0m\u001b[46m\u001b[1m\u001b[30m  .  \u001b[0m\u001b[46m\u001b[1m\u001b[30m  .  \u001b[0m\u001b[46m\u001b[1m\u001b[30m  .  \u001b[0m\u001b[46m\u001b[1m\u001b[30m  .  \u001b[0m\u001b[46m\u001b[1m\u001b[30m  .  \u001b[0m\u001b[46m\u001b[1m\u001b[30m  .  \u001b[0m\u001b[46m\u001b[1m\u001b[30m  .  \u001b[0m\n",
            "\u001b[46m\u001b[1m\u001b[30m  .  \u001b[0m\u001b[46m\u001b[1m\u001b[30m  .  \u001b[0m\u001b[46m\u001b[1m\u001b[30m  .  \u001b[0m\u001b[46m\u001b[1m\u001b[30m  .  \u001b[0m\u001b[46m\u001b[1m\u001b[30m  .  \u001b[0m\u001b[46m\u001b[1m\u001b[30m  .  \u001b[0m\u001b[46m\u001b[1m\u001b[30m  .  \u001b[0m\u001b[46m\u001b[1m\u001b[30m  .  \u001b[0m\u001b[46m\u001b[1m\u001b[30m  .  \u001b[0m\u001b[46m\u001b[1m\u001b[30m  .  \u001b[0m\n",
            "\u001b[46m\u001b[1m\u001b[30m  .  \u001b[0m\u001b[46m\u001b[1m\u001b[30m  .  \u001b[0m\u001b[46m\u001b[1m\u001b[30m  .  \u001b[0m\u001b[46m\u001b[1m\u001b[30m  .  \u001b[0m\u001b[46m\u001b[1m\u001b[30m  .  \u001b[0m\u001b[46m\u001b[1m\u001b[30m  .  \u001b[0m\u001b[46m\u001b[1m\u001b[30m  .  \u001b[0m\u001b[46m\u001b[1m\u001b[30m  .  \u001b[0m\u001b[46m\u001b[1m\u001b[30m  .  \u001b[0m\u001b[46m\u001b[1m\u001b[30m  .  \u001b[0m\n",
            "44\n",
            "action: 0\n",
            "44\n",
            "action: 3\n",
            "44\n",
            "action: 3\n"
          ]
        }
      ]
    },
    {
      "cell_type": "code",
      "source": [
        "# initilize Q table\n",
        "Q_table = np.zeros((env.observation_space.n,env.action_space.n))\n",
        "# parameters\n",
        "decay = 0.999\n",
        "gamma = 0.99\n",
        "learning_rate = 0.5\n",
        "prob_epi=1.0\n",
        "epi_rewards=[]\n",
        "for _ in range(10000):\n",
        "    current_state = env.reset()\n",
        "    done = False\n",
        "    sum_rewards_epi = 0\n",
        "    iters=1\n",
        "    for _ in range(100):\n",
        "        if  prob_epi > np.random.rand() :\n",
        "            action = env.action_space.sample()\n",
        "        else:\n",
        "            action = np.argmax(Q_table[current_state,:])\n",
        "        next_state, reward, done, _ = env.step(action)\n",
        "        Q_table[current_state, action] = (1-learning_rate) * Q_table[current_state, action] +learning_rate*(reward + gamma*max(Q_table[next_state,:]))\n",
        "        sum_rewards_epi = sum_rewards_epi + reward\n",
        "        if done:\n",
        "            _, reward, _, _ = env.step(0)\n",
        "            Q_table[current_state, action] = (1-learning_rate) * Q_table[current_state, action] +learning_rate*(reward + gamma*max(Q_table[next_state,:]))\n",
        "            sum_rewards_epi += reward\n",
        "            break\n",
        "        if reward==-10:\n",
        "          current_state=env.reset()\n",
        "        else:\n",
        "          current_state = next_state\n",
        "    prob_epi*=decay\n",
        "    prob_epi = max(0.001, prob_epi)\n",
        "    epi_rewards.append(sum_rewards_epi)"
      ],
      "metadata": {
        "id": "GjwWNeSupHrl"
      },
      "execution_count": 5,
      "outputs": []
    },
    {
      "cell_type": "code",
      "source": [
        "\n",
        "print(Q_table)"
      ],
      "metadata": {
        "colab": {
          "base_uri": "https://localhost:8080/"
        },
        "id": "C-2PZvrjrYF-",
        "outputId": "3e9bd2bc-37ef-4c64-e163-2183521a1ea0"
      },
      "execution_count": 6,
      "outputs": [
        {
          "output_type": "stream",
          "name": "stdout",
          "text": [
            "[[ 0.00000000e+00  0.00000000e+00  0.00000000e+00  0.00000000e+00]\n",
            " [ 6.60000000e-01  6.53400000e-01  6.53400000e-01  6.66666667e-01]\n",
            " [ 6.53400000e-01  6.46866000e-01  6.46866000e-01  6.60000000e-01]\n",
            " [ 6.46866000e-01  6.40397340e-01 -9.25960266e+00  6.53400000e-01]\n",
            " [ 6.40397340e-01  6.33993367e-01  6.33993367e-01  6.46866000e-01]\n",
            " [ 6.33993367e-01  6.27653433e-01  6.27653433e-01  6.40397340e-01]\n",
            " [ 6.27653433e-01  6.21376899e-01  6.21376899e-01  6.33993367e-01]\n",
            " [ 6.21376899e-01  6.15163130e-01  6.15163130e-01  6.27653433e-01]\n",
            " [ 6.15163130e-01  6.09011498e-01  6.09011498e-01  6.21376899e-01]\n",
            " [ 6.09011498e-01  6.09011353e-01  6.02921383e-01  6.15163130e-01]\n",
            " [ 6.66666667e-01  6.53400000e-01  6.53399994e-01  6.59999998e-01]\n",
            " [ 6.60000000e-01  6.46865999e-01  6.46866000e-01  6.60000000e-01]\n",
            " [ 6.53400000e-01 -9.25960266e+00  6.40397340e-01  6.53400000e-01]\n",
            " [-9.35313400e+00 -9.36600663e+00 -9.36600775e+00 -9.35313400e+00]\n",
            " [ 6.40397340e-01  6.27653433e-01  6.27653433e-01 -9.25960266e+00]\n",
            " [ 6.33993367e-01  6.21376899e-01  6.21376899e-01  6.33993367e-01]\n",
            " [ 6.27653433e-01  6.15163130e-01  6.15163130e-01  6.27653433e-01]\n",
            " [ 6.21376899e-01  6.09011498e-01  6.09011498e-01  6.21376899e-01]\n",
            " [ 6.15163130e-01  6.02921383e-01  6.02921383e-01  6.15163130e-01]\n",
            " [ 6.09011498e-01  6.02921361e-01  5.96892169e-01  6.09011498e-01]\n",
            " [ 6.59999999e-01  6.46334768e-01  5.20514146e-01  6.53172682e-01]\n",
            " [ 6.53400000e-01  6.40047273e-01  6.26608210e-01  6.49684076e-01]\n",
            " [ 6.46866000e-01  6.33924299e-01  6.33825265e-01  6.46852952e-01]\n",
            " [-9.25960716e+00  6.27653430e-01 -2.36981938e+00  6.40396636e-01]\n",
            " [ 6.33993367e-01  6.21376899e-01 -2.37234657e+00  6.33817866e-01]\n",
            " [ 6.27653433e-01  6.15163130e-01 -2.37862310e+00  6.27653433e-01]\n",
            " [ 6.21376899e-01  6.09011498e-01  6.09011498e-01  6.21376899e-01]\n",
            " [ 6.15163130e-01  6.02921383e-01  6.02921383e-01  6.15163130e-01]\n",
            " [ 6.09011498e-01  5.96892170e-01  5.96892170e-01  6.09011498e-01]\n",
            " [ 6.02921383e-01  5.96891769e-01  5.90922980e-01  6.02919422e-01]\n",
            " [ 0.00000000e+00  6.17767315e-01  0.00000000e+00  0.00000000e+00]\n",
            " [ 4.83459032e-01  6.33976110e-01 -5.84275474e+00  3.92391455e-01]\n",
            " [ 6.40397296e-01 -2.33277359e+00  2.28016575e-01  6.06164656e-01]\n",
            " [ 0.00000000e+00  0.00000000e+00  0.00000000e+00  0.00000000e+00]\n",
            " [ 0.00000000e+00  0.00000000e+00  0.00000000e+00  0.00000000e+00]\n",
            " [ 0.00000000e+00  0.00000000e+00  0.00000000e+00  0.00000000e+00]\n",
            " [ 6.15163130e-01  6.02921383e-01  6.02921383e-01 -2.39098850e+00]\n",
            " [ 6.09011498e-01  5.96892170e-01  5.96892170e-01  6.09011498e-01]\n",
            " [ 6.02921383e-01  5.90923248e-01  5.90923248e-01  6.02921383e-01]\n",
            " [ 5.96892039e-01  5.90923020e-01  5.85014015e-01  5.96892170e-01]\n",
            " [ 0.00000000e+00  0.00000000e+00  0.00000000e+00  0.00000000e+00]\n",
            " [-7.50000000e+00 -7.42854492e+00 -7.50000000e+00 -8.75000000e+00]\n",
            " [ 5.10517198e-01  0.00000000e+00  0.00000000e+00  0.00000000e+00]\n",
            " [ 0.00000000e+00  0.00000000e+00  0.00000000e+00  0.00000000e+00]\n",
            " [-2.40907675e+00  5.96892170e-01 -2.40907675e+00 -2.40907675e+00]\n",
            " [-2.40310783e+00  6.02921383e-01  5.90923248e-01  5.90923248e-01]\n",
            " [ 6.09011498e-01  5.96892170e-01  5.96892170e-01  5.96892170e-01]\n",
            " [ 6.02921383e-01  5.90923248e-01  5.90923248e-01  6.02921383e-01]\n",
            " [ 5.96892170e-01  5.85014015e-01  5.85014015e-01  5.96892170e-01]\n",
            " [ 5.90923148e-01  5.85012962e-01  5.79158099e-01  5.90923248e-01]\n",
            " [ 0.00000000e+00  0.00000000e+00  0.00000000e+00  0.00000000e+00]\n",
            " [ 0.00000000e+00  0.00000000e+00  0.00000000e+00  0.00000000e+00]\n",
            " [ 0.00000000e+00 -1.50000000e+00 -2.47500000e+00  0.00000000e+00]\n",
            " [ 0.00000000e+00  0.00000000e+00  0.00000000e+00  0.00000000e+00]\n",
            " [ 0.00000000e+00  0.00000000e+00  0.00000000e+00  0.00000000e+00]\n",
            " [ 5.96892170e-01  5.96892170e-01  5.85014015e-01 -2.40907675e+00]\n",
            " [ 6.02921383e-01  5.90923248e-01  5.90923248e-01  5.90923248e-01]\n",
            " [ 5.96892170e-01  5.85014015e-01  5.85014015e-01  5.96892170e-01]\n",
            " [ 5.90923248e-01  5.79163875e-01  5.79163874e-01  5.90923248e-01]\n",
            " [ 5.84946033e-01  5.79161843e-01  5.71338104e-01  5.85014015e-01]\n",
            " [ 0.00000000e+00  0.00000000e+00  0.00000000e+00  0.00000000e+00]\n",
            " [ 0.00000000e+00 -4.33125000e+00  0.00000000e+00  0.00000000e+00]\n",
            " [-9.92187500e+00 -9.46441639e+00 -9.87254409e+00 -9.96093750e+00]\n",
            " [-2.42756221e+00  5.79163529e-01  5.35117932e-01 -9.48163998e+00]\n",
            " [-2.42083628e+00  5.85014015e-01  5.73367533e-01  5.73370452e-01]\n",
            " [ 5.90923248e-01  5.90923248e-01  5.79163875e-01  5.79163875e-01]\n",
            " [ 5.96892170e-01  5.85014015e-01  5.85014015e-01  5.85014015e-01]\n",
            " [ 5.90923248e-01  5.79163875e-01  5.79163875e-01  5.90923248e-01]\n",
            " [ 5.85014015e-01  5.73199433e-01  5.73190461e-01  5.85012461e-01]\n",
            " [ 5.77249542e-01  5.53068355e-01  5.59823933e-01  5.79143428e-01]\n",
            " [ 0.00000000e+00  0.00000000e+00  0.00000000e+00  0.00000000e+00]\n",
            " [ 0.00000000e+00  3.96212334e-03  0.00000000e+00  0.00000000e+00]\n",
            " [-9.26077864e+00  2.49482657e-01  0.00000000e+00  1.85470979e-04]\n",
            " [ 5.70554598e-01  5.53597610e-01  2.07525988e-01  3.77477892e-03]\n",
            " [ 5.79163747e-01  5.79129822e-01  5.66956110e-01  5.42836365e-01]\n",
            " [ 5.85007222e-01  5.85014015e-01  5.72864607e-01  5.73355026e-01]\n",
            " [ 5.90923248e-01  5.79163875e-01  5.79163621e-01  5.79163856e-01]\n",
            " [ 5.85014015e-01  5.73358712e-01  5.73243420e-01  5.85014010e-01]\n",
            " [ 5.79136378e-01  5.53909001e-01  5.58791273e-01  5.79163044e-01]\n",
            " [ 5.40616291e-01  5.44053659e-01  5.19310228e-01  5.72248751e-01]\n",
            " [ 0.00000000e+00  0.00000000e+00  0.00000000e+00  0.00000000e+00]\n",
            " [ 0.00000000e+00  0.00000000e+00  0.00000000e+00  0.00000000e+00]\n",
            " [ 5.78706466e-03  2.03706428e-02  1.46857457e-02  0.00000000e+00]\n",
            " [ 3.22437211e-02  5.05852964e-01  3.05819557e-02  1.86213287e-02]\n",
            " [ 5.73357196e-01  5.59832200e-01  3.04006970e-01  3.93548361e-01]\n",
            " [ 5.78997266e-01  5.54565683e-01  3.91339602e-01  5.65687876e-01]\n",
            " [ 5.85014001e-01  5.73228382e-01  5.42196803e-01  5.48335292e-01]\n",
            " [ 5.79163327e-01  5.63098494e-01  5.52758605e-01  5.77114486e-01]\n",
            " [ 5.70529273e-01  5.13271075e-01  4.79263363e-01  5.72799881e-01]\n",
            " [ 4.91065261e-01  3.11275852e-01  3.27004883e-01  5.52993801e-01]\n",
            " [ 0.00000000e+00  0.00000000e+00  0.00000000e+00  0.00000000e+00]\n",
            " [ 0.00000000e+00  7.42145685e-03  0.00000000e+00  0.00000000e+00]\n",
            " [ 2.47294638e-04  4.71546906e-02  1.53795946e-02  1.40411753e-03]\n",
            " [ 5.44938567e-02  3.93425512e-02  2.71263005e-02  2.65145264e-02]\n",
            " [ 5.13412799e-01  2.85558071e-01  3.16144009e-01  2.31077838e-02]\n",
            " [ 5.12015086e-01  3.94075519e-01  2.98099029e-01  4.03492196e-01]\n",
            " [ 5.78550418e-01  5.25228079e-01  4.79004834e-01  3.52976557e-01]\n",
            " [ 5.67252951e-01  4.99571068e-01  5.45738207e-01  5.69855798e-01]\n",
            " [ 4.45080841e-01  2.43857881e-01  3.79550020e-01  5.53647271e-01]\n",
            " [ 3.31390426e-01  1.55299517e-01  1.51543365e-01  4.76726462e-01]]\n"
          ]
        }
      ]
    },
    {
      "cell_type": "code",
      "source": [
        "plt.plot(epi_rewards)\n",
        "plt.xlabel(\"episodes\")\n",
        "plt.ylabel(\"total rewards\")\n",
        "plt.show()\n",
        "print(epi_rewards[9999])"
      ],
      "metadata": {
        "colab": {
          "base_uri": "https://localhost:8080/",
          "height": 299
        },
        "id": "beWlpYJpakqg",
        "outputId": "64c8366f-8f5e-4cff-b53f-1436da650270"
      },
      "execution_count": 7,
      "outputs": [
        {
          "output_type": "display_data",
          "data": {
            "image/png": "[encoded data removed]",
            "text/plain": [
              "<Figure size 432x288 with 1 Axes>"
            ]
          },
          "metadata": {
            "needs_background": "light"
          }
        },
        {
          "output_type": "stream",
          "name": "stdout",
          "text": [
            "1.0\n"
          ]
        }
      ]
    },
    {
      "cell_type": "code",
      "source": [
        "# testing trained model\n",
        "env.reset()\n",
        "state=44\n",
        "env._render()\n",
        "for _ in range(12):\n",
        "    action = np.argmax(Q_table[state,:])\n",
        "    state, reward, done, info = env.step(action) # Take a random action\n",
        "    print(\"state: \", state)\n",
        "    print('action:',action)\n",
        "    env._render()\n",
        "env.close()"
      ],
      "metadata": {
        "colab": {
          "base_uri": "https://localhost:8080/"
        },
        "id": "KAxYjYh410c2",
        "outputId": "43e2b47d-d719-4f17-b76a-2faf2cbc3cb6"
      },
      "execution_count": 8,
      "outputs": [
        {
          "output_type": "stream",
          "name": "stdout",
          "text": [
            "\u001b[42m\u001b[1m\u001b[37m     \u001b[0m\u001b[46m\u001b[1m\u001b[30m  .  \u001b[0m\u001b[46m\u001b[1m\u001b[30m  .  \u001b[0m\u001b[46m\u001b[1m\u001b[30m  .  \u001b[0m\u001b[46m\u001b[1m\u001b[30m  .  \u001b[0m\u001b[46m\u001b[1m\u001b[30m  .  \u001b[0m\u001b[46m\u001b[1m\u001b[30m  .  \u001b[0m\u001b[46m\u001b[1m\u001b[30m  .  \u001b[0m\u001b[46m\u001b[1m\u001b[30m  .  \u001b[0m\u001b[46m\u001b[1m\u001b[30m  .  \u001b[0m\n",
            "\u001b[46m\u001b[1m\u001b[30m  .  \u001b[0m\u001b[46m\u001b[1m\u001b[30m  .  \u001b[0m\u001b[46m\u001b[1m\u001b[30m  .  \u001b[0m\u001b[44m     \u001b[0m\u001b[46m\u001b[1m\u001b[30m  .  \u001b[0m\u001b[46m\u001b[1m\u001b[30m  .  \u001b[0m\u001b[46m\u001b[1m\u001b[30m  .  \u001b[0m\u001b[46m\u001b[1m\u001b[30m  .  \u001b[0m\u001b[46m\u001b[1m\u001b[30m  .  \u001b[0m\u001b[46m\u001b[1m\u001b[30m  .  \u001b[0m\n",
            "\u001b[46m\u001b[1m\u001b[30m  .  \u001b[0m\u001b[46m\u001b[1m\u001b[30m  .  \u001b[0m\u001b[46m\u001b[1m\u001b[30m  .  \u001b[0m\u001b[46m\u001b[1m\u001b[30m  .  \u001b[0m\u001b[46m\u001b[1m\u001b[30m  .  \u001b[0m\u001b[46m\u001b[1m\u001b[30m  .  \u001b[0m\u001b[46m\u001b[1m\u001b[30m  .  \u001b[0m\u001b[46m\u001b[1m\u001b[30m  .  \u001b[0m\u001b[46m\u001b[1m\u001b[30m  .  \u001b[0m\u001b[46m\u001b[1m\u001b[30m  .  \u001b[0m\n",
            "\u001b[46m\u001b[1m\u001b[30m  .  \u001b[0m\u001b[46m\u001b[1m\u001b[30m  .  \u001b[0m\u001b[46m\u001b[1m\u001b[30m  .  \u001b[0m\u001b[46m\u001b[1m\u001b[30m  █  \u001b[0m\u001b[46m\u001b[1m\u001b[30m  █  \u001b[0m\u001b[46m\u001b[1m\u001b[30m  █  \u001b[0m\u001b[46m\u001b[1m\u001b[30m  .  \u001b[0m\u001b[46m\u001b[1m\u001b[30m  .  \u001b[0m\u001b[46m\u001b[1m\u001b[30m  .  \u001b[0m\u001b[46m\u001b[1m\u001b[30m  .  \u001b[0m\n",
            "\u001b[46m\u001b[1m\u001b[30m  .  \u001b[0m\u001b[44m     \u001b[0m\u001b[46m\u001b[1m\u001b[30m  .  \u001b[0m\u001b[46m\u001b[1m\u001b[30m  █  \u001b[0m\u001b[46m\u001b[1m\u001b[37m  웃 \u001b[0m\u001b[46m\u001b[1m\u001b[30m  .  \u001b[0m\u001b[46m\u001b[1m\u001b[30m  .  \u001b[0m\u001b[46m\u001b[1m\u001b[30m  .  \u001b[0m\u001b[46m\u001b[1m\u001b[30m  .  \u001b[0m\u001b[46m\u001b[1m\u001b[30m  .  \u001b[0m\n",
            "\u001b[46m\u001b[1m\u001b[30m  .  \u001b[0m\u001b[46m\u001b[1m\u001b[30m  .  \u001b[0m\u001b[46m\u001b[1m\u001b[30m  .  \u001b[0m\u001b[46m\u001b[1m\u001b[30m  █  \u001b[0m\u001b[46m\u001b[1m\u001b[30m  █  \u001b[0m\u001b[46m\u001b[1m\u001b[30m  .  \u001b[0m\u001b[46m\u001b[1m\u001b[30m  .  \u001b[0m\u001b[46m\u001b[1m\u001b[30m  .  \u001b[0m\u001b[46m\u001b[1m\u001b[30m  .  \u001b[0m\u001b[46m\u001b[1m\u001b[30m  .  \u001b[0m\n",
            "\u001b[46m\u001b[1m\u001b[30m  .  \u001b[0m\u001b[46m\u001b[1m\u001b[30m  .  \u001b[0m\u001b[44m     \u001b[0m\u001b[46m\u001b[1m\u001b[30m  .  \u001b[0m\u001b[46m\u001b[1m\u001b[30m  .  \u001b[0m\u001b[46m\u001b[1m\u001b[30m  .  \u001b[0m\u001b[46m\u001b[1m\u001b[30m  .  \u001b[0m\u001b[46m\u001b[1m\u001b[30m  .  \u001b[0m\u001b[46m\u001b[1m\u001b[30m  .  \u001b[0m\u001b[46m\u001b[1m\u001b[30m  .  \u001b[0m\n",
            "\u001b[46m\u001b[1m\u001b[30m  .  \u001b[0m\u001b[46m\u001b[1m\u001b[30m  .  \u001b[0m\u001b[46m\u001b[1m\u001b[30m  .  \u001b[0m\u001b[46m\u001b[1m\u001b[30m  .  \u001b[0m\u001b[46m\u001b[1m\u001b[30m  .  \u001b[0m\u001b[46m\u001b[1m\u001b[30m  .  \u001b[0m\u001b[46m\u001b[1m\u001b[30m  .  \u001b[0m\u001b[46m\u001b[1m\u001b[30m  .  \u001b[0m\u001b[46m\u001b[1m\u001b[30m  .  \u001b[0m\u001b[46m\u001b[1m\u001b[30m  .  \u001b[0m\n",
            "\u001b[46m\u001b[1m\u001b[30m  .  \u001b[0m\u001b[46m\u001b[1m\u001b[30m  .  \u001b[0m\u001b[46m\u001b[1m\u001b[30m  .  \u001b[0m\u001b[46m\u001b[1m\u001b[30m  .  \u001b[0m\u001b[46m\u001b[1m\u001b[30m  .  \u001b[0m\u001b[46m\u001b[1m\u001b[30m  .  \u001b[0m\u001b[46m\u001b[1m\u001b[30m  .  \u001b[0m\u001b[46m\u001b[1m\u001b[30m  .  \u001b[0m\u001b[46m\u001b[1m\u001b[30m  .  \u001b[0m\u001b[46m\u001b[1m\u001b[30m  .  \u001b[0m\n",
            "\u001b[46m\u001b[1m\u001b[30m  .  \u001b[0m\u001b[46m\u001b[1m\u001b[30m  .  \u001b[0m\u001b[46m\u001b[1m\u001b[30m  .  \u001b[0m\u001b[46m\u001b[1m\u001b[30m  .  \u001b[0m\u001b[46m\u001b[1m\u001b[30m  .  \u001b[0m\u001b[46m\u001b[1m\u001b[30m  .  \u001b[0m\u001b[46m\u001b[1m\u001b[30m  .  \u001b[0m\u001b[46m\u001b[1m\u001b[30m  .  \u001b[0m\u001b[46m\u001b[1m\u001b[30m  .  \u001b[0m\u001b[46m\u001b[1m\u001b[30m  .  \u001b[0m\n",
            "state:  45\n",
            "action: 1\n",
            "\u001b[42m\u001b[1m\u001b[37m     \u001b[0m\u001b[46m\u001b[1m\u001b[30m  .  \u001b[0m\u001b[46m\u001b[1m\u001b[30m  .  \u001b[0m\u001b[46m\u001b[1m\u001b[30m  .  \u001b[0m\u001b[46m\u001b[1m\u001b[30m  .  \u001b[0m\u001b[46m\u001b[1m\u001b[30m  .  \u001b[0m\u001b[46m\u001b[1m\u001b[30m  .  \u001b[0m\u001b[46m\u001b[1m\u001b[30m  .  \u001b[0m\u001b[46m\u001b[1m\u001b[30m  .  \u001b[0m\u001b[46m\u001b[1m\u001b[30m  .  \u001b[0m\n",
            "\u001b[46m\u001b[1m\u001b[30m  .  \u001b[0m\u001b[46m\u001b[1m\u001b[30m  .  \u001b[0m\u001b[46m\u001b[1m\u001b[30m  .  \u001b[0m\u001b[44m     \u001b[0m\u001b[46m\u001b[1m\u001b[30m  .  \u001b[0m\u001b[46m\u001b[1m\u001b[30m  .  \u001b[0m\u001b[46m\u001b[1m\u001b[30m  .  \u001b[0m\u001b[46m\u001b[1m\u001b[30m  .  \u001b[0m\u001b[46m\u001b[1m\u001b[30m  .  \u001b[0m\u001b[46m\u001b[1m\u001b[30m  .  \u001b[0m\n",
            "\u001b[46m\u001b[1m\u001b[30m  .  \u001b[0m\u001b[46m\u001b[1m\u001b[30m  .  \u001b[0m\u001b[46m\u001b[1m\u001b[30m  .  \u001b[0m\u001b[46m\u001b[1m\u001b[30m  .  \u001b[0m\u001b[46m\u001b[1m\u001b[30m  .  \u001b[0m\u001b[46m\u001b[1m\u001b[30m  .  \u001b[0m\u001b[46m\u001b[1m\u001b[30m  .  \u001b[0m\u001b[46m\u001b[1m\u001b[30m  .  \u001b[0m\u001b[46m\u001b[1m\u001b[30m  .  \u001b[0m\u001b[46m\u001b[1m\u001b[30m  .  \u001b[0m\n",
            "\u001b[46m\u001b[1m\u001b[30m  .  \u001b[0m\u001b[46m\u001b[1m\u001b[30m  .  \u001b[0m\u001b[46m\u001b[1m\u001b[30m  .  \u001b[0m\u001b[46m\u001b[1m\u001b[30m  █  \u001b[0m\u001b[46m\u001b[1m\u001b[30m  █  \u001b[0m\u001b[46m\u001b[1m\u001b[30m  █  \u001b[0m\u001b[46m\u001b[1m\u001b[30m  .  \u001b[0m\u001b[46m\u001b[1m\u001b[30m  .  \u001b[0m\u001b[46m\u001b[1m\u001b[30m  .  \u001b[0m\u001b[46m\u001b[1m\u001b[30m  .  \u001b[0m\n",
            "\u001b[46m\u001b[1m\u001b[30m  .  \u001b[0m\u001b[44m     \u001b[0m\u001b[46m\u001b[1m\u001b[30m  .  \u001b[0m\u001b[46m\u001b[1m\u001b[30m  █  \u001b[0m\u001b[46m\u001b[1m\u001b[30m  .  \u001b[0m\u001b[46m\u001b[1m\u001b[37m  웃 \u001b[0m\u001b[46m\u001b[1m\u001b[30m  .  \u001b[0m\u001b[46m\u001b[1m\u001b[30m  .  \u001b[0m\u001b[46m\u001b[1m\u001b[30m  .  \u001b[0m\u001b[46m\u001b[1m\u001b[30m  .  \u001b[0m\n",
            "\u001b[46m\u001b[1m\u001b[30m  .  \u001b[0m\u001b[46m\u001b[1m\u001b[30m  .  \u001b[0m\u001b[46m\u001b[1m\u001b[30m  .  \u001b[0m\u001b[46m\u001b[1m\u001b[30m  █  \u001b[0m\u001b[46m\u001b[1m\u001b[30m  █  \u001b[0m\u001b[46m\u001b[1m\u001b[30m  .  \u001b[0m\u001b[46m\u001b[1m\u001b[30m  .  \u001b[0m\u001b[46m\u001b[1m\u001b[30m  .  \u001b[0m\u001b[46m\u001b[1m\u001b[30m  .  \u001b[0m\u001b[46m\u001b[1m\u001b[30m  .  \u001b[0m\n",
            "\u001b[46m\u001b[1m\u001b[30m  .  \u001b[0m\u001b[46m\u001b[1m\u001b[30m  .  \u001b[0m\u001b[44m     \u001b[0m\u001b[46m\u001b[1m\u001b[30m  .  \u001b[0m\u001b[46m\u001b[1m\u001b[30m  .  \u001b[0m\u001b[46m\u001b[1m\u001b[30m  .  \u001b[0m\u001b[46m\u001b[1m\u001b[30m  .  \u001b[0m\u001b[46m\u001b[1m\u001b[30m  .  \u001b[0m\u001b[46m\u001b[1m\u001b[30m  .  \u001b[0m\u001b[46m\u001b[1m\u001b[30m  .  \u001b[0m\n",
            "\u001b[46m\u001b[1m\u001b[30m  .  \u001b[0m\u001b[46m\u001b[1m\u001b[30m  .  \u001b[0m\u001b[46m\u001b[1m\u001b[30m  .  \u001b[0m\u001b[46m\u001b[1m\u001b[30m  .  \u001b[0m\u001b[46m\u001b[1m\u001b[30m  .  \u001b[0m\u001b[46m\u001b[1m\u001b[30m  .  \u001b[0m\u001b[46m\u001b[1m\u001b[30m  .  \u001b[0m\u001b[46m\u001b[1m\u001b[30m  .  \u001b[0m\u001b[46m\u001b[1m\u001b[30m  .  \u001b[0m\u001b[46m\u001b[1m\u001b[30m  .  \u001b[0m\n",
            "\u001b[46m\u001b[1m\u001b[30m  .  \u001b[0m\u001b[46m\u001b[1m\u001b[30m  .  \u001b[0m\u001b[46m\u001b[1m\u001b[30m  .  \u001b[0m\u001b[46m\u001b[1m\u001b[30m  .  \u001b[0m\u001b[46m\u001b[1m\u001b[30m  .  \u001b[0m\u001b[46m\u001b[1m\u001b[30m  .  \u001b[0m\u001b[46m\u001b[1m\u001b[30m  .  \u001b[0m\u001b[46m\u001b[1m\u001b[30m  .  \u001b[0m\u001b[46m\u001b[1m\u001b[30m  .  \u001b[0m\u001b[46m\u001b[1m\u001b[30m  .  \u001b[0m\n",
            "\u001b[46m\u001b[1m\u001b[30m  .  \u001b[0m\u001b[46m\u001b[1m\u001b[30m  .  \u001b[0m\u001b[46m\u001b[1m\u001b[30m  .  \u001b[0m\u001b[46m\u001b[1m\u001b[30m  .  \u001b[0m\u001b[46m\u001b[1m\u001b[30m  .  \u001b[0m\u001b[46m\u001b[1m\u001b[30m  .  \u001b[0m\u001b[46m\u001b[1m\u001b[30m  .  \u001b[0m\u001b[46m\u001b[1m\u001b[30m  .  \u001b[0m\u001b[46m\u001b[1m\u001b[30m  .  \u001b[0m\u001b[46m\u001b[1m\u001b[30m  .  \u001b[0m\n",
            "state:  46\n",
            "action: 1\n",
            "\u001b[42m\u001b[1m\u001b[37m     \u001b[0m\u001b[46m\u001b[1m\u001b[30m  .  \u001b[0m\u001b[46m\u001b[1m\u001b[30m  .  \u001b[0m\u001b[46m\u001b[1m\u001b[30m  .  \u001b[0m\u001b[46m\u001b[1m\u001b[30m  .  \u001b[0m\u001b[46m\u001b[1m\u001b[30m  .  \u001b[0m\u001b[46m\u001b[1m\u001b[30m  .  \u001b[0m\u001b[46m\u001b[1m\u001b[30m  .  \u001b[0m\u001b[46m\u001b[1m\u001b[30m  .  \u001b[0m\u001b[46m\u001b[1m\u001b[30m  .  \u001b[0m\n",
            "\u001b[46m\u001b[1m\u001b[30m  .  \u001b[0m\u001b[46m\u001b[1m\u001b[30m  .  \u001b[0m\u001b[46m\u001b[1m\u001b[30m  .  \u001b[0m\u001b[44m     \u001b[0m\u001b[46m\u001b[1m\u001b[30m  .  \u001b[0m\u001b[46m\u001b[1m\u001b[30m  .  \u001b[0m\u001b[46m\u001b[1m\u001b[30m  .  \u001b[0m\u001b[46m\u001b[1m\u001b[30m  .  \u001b[0m\u001b[46m\u001b[1m\u001b[30m  .  \u001b[0m\u001b[46m\u001b[1m\u001b[30m  .  \u001b[0m\n",
            "\u001b[46m\u001b[1m\u001b[30m  .  \u001b[0m\u001b[46m\u001b[1m\u001b[30m  .  \u001b[0m\u001b[46m\u001b[1m\u001b[30m  .  \u001b[0m\u001b[46m\u001b[1m\u001b[30m  .  \u001b[0m\u001b[46m\u001b[1m\u001b[30m  .  \u001b[0m\u001b[46m\u001b[1m\u001b[30m  .  \u001b[0m\u001b[46m\u001b[1m\u001b[30m  .  \u001b[0m\u001b[46m\u001b[1m\u001b[30m  .  \u001b[0m\u001b[46m\u001b[1m\u001b[30m  .  \u001b[0m\u001b[46m\u001b[1m\u001b[30m  .  \u001b[0m\n",
            "\u001b[46m\u001b[1m\u001b[30m  .  \u001b[0m\u001b[46m\u001b[1m\u001b[30m  .  \u001b[0m\u001b[46m\u001b[1m\u001b[30m  .  \u001b[0m\u001b[46m\u001b[1m\u001b[30m  █  \u001b[0m\u001b[46m\u001b[1m\u001b[30m  █  \u001b[0m\u001b[46m\u001b[1m\u001b[30m  █  \u001b[0m\u001b[46m\u001b[1m\u001b[30m  .  \u001b[0m\u001b[46m\u001b[1m\u001b[30m  .  \u001b[0m\u001b[46m\u001b[1m\u001b[30m  .  \u001b[0m\u001b[46m\u001b[1m\u001b[30m  .  \u001b[0m\n",
            "\u001b[46m\u001b[1m\u001b[30m  .  \u001b[0m\u001b[44m     \u001b[0m\u001b[46m\u001b[1m\u001b[30m  .  \u001b[0m\u001b[46m\u001b[1m\u001b[30m  █  \u001b[0m\u001b[46m\u001b[1m\u001b[30m  .  \u001b[0m\u001b[46m\u001b[1m\u001b[30m  .  \u001b[0m\u001b[46m\u001b[1m\u001b[37m  웃 \u001b[0m\u001b[46m\u001b[1m\u001b[30m  .  \u001b[0m\u001b[46m\u001b[1m\u001b[30m  .  \u001b[0m\u001b[46m\u001b[1m\u001b[30m  .  \u001b[0m\n",
            "\u001b[46m\u001b[1m\u001b[30m  .  \u001b[0m\u001b[46m\u001b[1m\u001b[30m  .  \u001b[0m\u001b[46m\u001b[1m\u001b[30m  .  \u001b[0m\u001b[46m\u001b[1m\u001b[30m  █  \u001b[0m\u001b[46m\u001b[1m\u001b[30m  █  \u001b[0m\u001b[46m\u001b[1m\u001b[30m  .  \u001b[0m\u001b[46m\u001b[1m\u001b[30m  .  \u001b[0m\u001b[46m\u001b[1m\u001b[30m  .  \u001b[0m\u001b[46m\u001b[1m\u001b[30m  .  \u001b[0m\u001b[46m\u001b[1m\u001b[30m  .  \u001b[0m\n",
            "\u001b[46m\u001b[1m\u001b[30m  .  \u001b[0m\u001b[46m\u001b[1m\u001b[30m  .  \u001b[0m\u001b[44m     \u001b[0m\u001b[46m\u001b[1m\u001b[30m  .  \u001b[0m\u001b[46m\u001b[1m\u001b[30m  .  \u001b[0m\u001b[46m\u001b[1m\u001b[30m  .  \u001b[0m\u001b[46m\u001b[1m\u001b[30m  .  \u001b[0m\u001b[46m\u001b[1m\u001b[30m  .  \u001b[0m\u001b[46m\u001b[1m\u001b[30m  .  \u001b[0m\u001b[46m\u001b[1m\u001b[30m  .  \u001b[0m\n",
            "\u001b[46m\u001b[1m\u001b[30m  .  \u001b[0m\u001b[46m\u001b[1m\u001b[30m  .  \u001b[0m\u001b[46m\u001b[1m\u001b[30m  .  \u001b[0m\u001b[46m\u001b[1m\u001b[30m  .  \u001b[0m\u001b[46m\u001b[1m\u001b[30m  .  \u001b[0m\u001b[46m\u001b[1m\u001b[30m  .  \u001b[0m\u001b[46m\u001b[1m\u001b[30m  .  \u001b[0m\u001b[46m\u001b[1m\u001b[30m  .  \u001b[0m\u001b[46m\u001b[1m\u001b[30m  .  \u001b[0m\u001b[46m\u001b[1m\u001b[30m  .  \u001b[0m\n",
            "\u001b[46m\u001b[1m\u001b[30m  .  \u001b[0m\u001b[46m\u001b[1m\u001b[30m  .  \u001b[0m\u001b[46m\u001b[1m\u001b[30m  .  \u001b[0m\u001b[46m\u001b[1m\u001b[30m  .  \u001b[0m\u001b[46m\u001b[1m\u001b[30m  .  \u001b[0m\u001b[46m\u001b[1m\u001b[30m  .  \u001b[0m\u001b[46m\u001b[1m\u001b[30m  .  \u001b[0m\u001b[46m\u001b[1m\u001b[30m  .  \u001b[0m\u001b[46m\u001b[1m\u001b[30m  .  \u001b[0m\u001b[46m\u001b[1m\u001b[30m  .  \u001b[0m\n",
            "\u001b[46m\u001b[1m\u001b[30m  .  \u001b[0m\u001b[46m\u001b[1m\u001b[30m  .  \u001b[0m\u001b[46m\u001b[1m\u001b[30m  .  \u001b[0m\u001b[46m\u001b[1m\u001b[30m  .  \u001b[0m\u001b[46m\u001b[1m\u001b[30m  .  \u001b[0m\u001b[46m\u001b[1m\u001b[30m  .  \u001b[0m\u001b[46m\u001b[1m\u001b[30m  .  \u001b[0m\u001b[46m\u001b[1m\u001b[30m  .  \u001b[0m\u001b[46m\u001b[1m\u001b[30m  .  \u001b[0m\u001b[46m\u001b[1m\u001b[30m  .  \u001b[0m\n",
            "state:  36\n",
            "action: 0\n",
            "\u001b[42m\u001b[1m\u001b[37m     \u001b[0m\u001b[46m\u001b[1m\u001b[30m  .  \u001b[0m\u001b[46m\u001b[1m\u001b[30m  .  \u001b[0m\u001b[46m\u001b[1m\u001b[30m  .  \u001b[0m\u001b[46m\u001b[1m\u001b[30m  .  \u001b[0m\u001b[46m\u001b[1m\u001b[30m  .  \u001b[0m\u001b[46m\u001b[1m\u001b[30m  .  \u001b[0m\u001b[46m\u001b[1m\u001b[30m  .  \u001b[0m\u001b[46m\u001b[1m\u001b[30m  .  \u001b[0m\u001b[46m\u001b[1m\u001b[30m  .  \u001b[0m\n",
            "\u001b[46m\u001b[1m\u001b[30m  .  \u001b[0m\u001b[46m\u001b[1m\u001b[30m  .  \u001b[0m\u001b[46m\u001b[1m\u001b[30m  .  \u001b[0m\u001b[44m     \u001b[0m\u001b[46m\u001b[1m\u001b[30m  .  \u001b[0m\u001b[46m\u001b[1m\u001b[30m  .  \u001b[0m\u001b[46m\u001b[1m\u001b[30m  .  \u001b[0m\u001b[46m\u001b[1m\u001b[30m  .  \u001b[0m\u001b[46m\u001b[1m\u001b[30m  .  \u001b[0m\u001b[46m\u001b[1m\u001b[30m  .  \u001b[0m\n",
            "\u001b[46m\u001b[1m\u001b[30m  .  \u001b[0m\u001b[46m\u001b[1m\u001b[30m  .  \u001b[0m\u001b[46m\u001b[1m\u001b[30m  .  \u001b[0m\u001b[46m\u001b[1m\u001b[30m  .  \u001b[0m\u001b[46m\u001b[1m\u001b[30m  .  \u001b[0m\u001b[46m\u001b[1m\u001b[30m  .  \u001b[0m\u001b[46m\u001b[1m\u001b[30m  .  \u001b[0m\u001b[46m\u001b[1m\u001b[30m  .  \u001b[0m\u001b[46m\u001b[1m\u001b[30m  .  \u001b[0m\u001b[46m\u001b[1m\u001b[30m  .  \u001b[0m\n",
            "\u001b[46m\u001b[1m\u001b[30m  .  \u001b[0m\u001b[46m\u001b[1m\u001b[30m  .  \u001b[0m\u001b[46m\u001b[1m\u001b[30m  .  \u001b[0m\u001b[46m\u001b[1m\u001b[30m  █  \u001b[0m\u001b[46m\u001b[1m\u001b[30m  █  \u001b[0m\u001b[46m\u001b[1m\u001b[30m  █  \u001b[0m\u001b[46m\u001b[1m\u001b[37m  웃 \u001b[0m\u001b[46m\u001b[1m\u001b[30m  .  \u001b[0m\u001b[46m\u001b[1m\u001b[30m  .  \u001b[0m\u001b[46m\u001b[1m\u001b[30m  .  \u001b[0m\n",
            "\u001b[46m\u001b[1m\u001b[30m  .  \u001b[0m\u001b[44m     \u001b[0m\u001b[46m\u001b[1m\u001b[30m  .  \u001b[0m\u001b[46m\u001b[1m\u001b[30m  █  \u001b[0m\u001b[46m\u001b[1m\u001b[30m  .  \u001b[0m\u001b[46m\u001b[1m\u001b[30m  .  \u001b[0m\u001b[46m\u001b[1m\u001b[30m  .  \u001b[0m\u001b[46m\u001b[1m\u001b[30m  .  \u001b[0m\u001b[46m\u001b[1m\u001b[30m  .  \u001b[0m\u001b[46m\u001b[1m\u001b[30m  .  \u001b[0m\n",
            "\u001b[46m\u001b[1m\u001b[30m  .  \u001b[0m\u001b[46m\u001b[1m\u001b[30m  .  \u001b[0m\u001b[46m\u001b[1m\u001b[30m  .  \u001b[0m\u001b[46m\u001b[1m\u001b[30m  █  \u001b[0m\u001b[46m\u001b[1m\u001b[30m  █  \u001b[0m\u001b[46m\u001b[1m\u001b[30m  .  \u001b[0m\u001b[46m\u001b[1m\u001b[30m  .  \u001b[0m\u001b[46m\u001b[1m\u001b[30m  .  \u001b[0m\u001b[46m\u001b[1m\u001b[30m  .  \u001b[0m\u001b[46m\u001b[1m\u001b[30m  .  \u001b[0m\n",
            "\u001b[46m\u001b[1m\u001b[30m  .  \u001b[0m\u001b[46m\u001b[1m\u001b[30m  .  \u001b[0m\u001b[44m     \u001b[0m\u001b[46m\u001b[1m\u001b[30m  .  \u001b[0m\u001b[46m\u001b[1m\u001b[30m  .  \u001b[0m\u001b[46m\u001b[1m\u001b[30m  .  \u001b[0m\u001b[46m\u001b[1m\u001b[30m  .  \u001b[0m\u001b[46m\u001b[1m\u001b[30m  .  \u001b[0m\u001b[46m\u001b[1m\u001b[30m  .  \u001b[0m\u001b[46m\u001b[1m\u001b[30m  .  \u001b[0m\n",
            "\u001b[46m\u001b[1m\u001b[30m  .  \u001b[0m\u001b[46m\u001b[1m\u001b[30m  .  \u001b[0m\u001b[46m\u001b[1m\u001b[30m  .  \u001b[0m\u001b[46m\u001b[1m\u001b[30m  .  \u001b[0m\u001b[46m\u001b[1m\u001b[30m  .  \u001b[0m\u001b[46m\u001b[1m\u001b[30m  .  \u001b[0m\u001b[46m\u001b[1m\u001b[30m  .  \u001b[0m\u001b[46m\u001b[1m\u001b[30m  .  \u001b[0m\u001b[46m\u001b[1m\u001b[30m  .  \u001b[0m\u001b[46m\u001b[1m\u001b[30m  .  \u001b[0m\n",
            "\u001b[46m\u001b[1m\u001b[30m  .  \u001b[0m\u001b[46m\u001b[1m\u001b[30m  .  \u001b[0m\u001b[46m\u001b[1m\u001b[30m  .  \u001b[0m\u001b[46m\u001b[1m\u001b[30m  .  \u001b[0m\u001b[46m\u001b[1m\u001b[30m  .  \u001b[0m\u001b[46m\u001b[1m\u001b[30m  .  \u001b[0m\u001b[46m\u001b[1m\u001b[30m  .  \u001b[0m\u001b[46m\u001b[1m\u001b[30m  .  \u001b[0m\u001b[46m\u001b[1m\u001b[30m  .  \u001b[0m\u001b[46m\u001b[1m\u001b[30m  .  \u001b[0m\n",
            "\u001b[46m\u001b[1m\u001b[30m  .  \u001b[0m\u001b[46m\u001b[1m\u001b[30m  .  \u001b[0m\u001b[46m\u001b[1m\u001b[30m  .  \u001b[0m\u001b[46m\u001b[1m\u001b[30m  .  \u001b[0m\u001b[46m\u001b[1m\u001b[30m  .  \u001b[0m\u001b[46m\u001b[1m\u001b[30m  .  \u001b[0m\u001b[46m\u001b[1m\u001b[30m  .  \u001b[0m\u001b[46m\u001b[1m\u001b[30m  .  \u001b[0m\u001b[46m\u001b[1m\u001b[30m  .  \u001b[0m\u001b[46m\u001b[1m\u001b[30m  .  \u001b[0m\n",
            "state:  26\n",
            "action: 0\n",
            "\u001b[42m\u001b[1m\u001b[37m     \u001b[0m\u001b[46m\u001b[1m\u001b[30m  .  \u001b[0m\u001b[46m\u001b[1m\u001b[30m  .  \u001b[0m\u001b[46m\u001b[1m\u001b[30m  .  \u001b[0m\u001b[46m\u001b[1m\u001b[30m  .  \u001b[0m\u001b[46m\u001b[1m\u001b[30m  .  \u001b[0m\u001b[46m\u001b[1m\u001b[30m  .  \u001b[0m\u001b[46m\u001b[1m\u001b[30m  .  \u001b[0m\u001b[46m\u001b[1m\u001b[30m  .  \u001b[0m\u001b[46m\u001b[1m\u001b[30m  .  \u001b[0m\n",
            "\u001b[46m\u001b[1m\u001b[30m  .  \u001b[0m\u001b[46m\u001b[1m\u001b[30m  .  \u001b[0m\u001b[46m\u001b[1m\u001b[30m  .  \u001b[0m\u001b[44m     \u001b[0m\u001b[46m\u001b[1m\u001b[30m  .  \u001b[0m\u001b[46m\u001b[1m\u001b[30m  .  \u001b[0m\u001b[46m\u001b[1m\u001b[30m  .  \u001b[0m\u001b[46m\u001b[1m\u001b[30m  .  \u001b[0m\u001b[46m\u001b[1m\u001b[30m  .  \u001b[0m\u001b[46m\u001b[1m\u001b[30m  .  \u001b[0m\n",
            "\u001b[46m\u001b[1m\u001b[30m  .  \u001b[0m\u001b[46m\u001b[1m\u001b[30m  .  \u001b[0m\u001b[46m\u001b[1m\u001b[30m  .  \u001b[0m\u001b[46m\u001b[1m\u001b[30m  .  \u001b[0m\u001b[46m\u001b[1m\u001b[30m  .  \u001b[0m\u001b[46m\u001b[1m\u001b[30m  .  \u001b[0m\u001b[46m\u001b[1m\u001b[37m  웃 \u001b[0m\u001b[46m\u001b[1m\u001b[30m  .  \u001b[0m\u001b[46m\u001b[1m\u001b[30m  .  \u001b[0m\u001b[46m\u001b[1m\u001b[30m  .  \u001b[0m\n",
            "\u001b[46m\u001b[1m\u001b[30m  .  \u001b[0m\u001b[46m\u001b[1m\u001b[30m  .  \u001b[0m\u001b[46m\u001b[1m\u001b[30m  .  \u001b[0m\u001b[46m\u001b[1m\u001b[30m  █  \u001b[0m\u001b[46m\u001b[1m\u001b[30m  █  \u001b[0m\u001b[46m\u001b[1m\u001b[30m  █  \u001b[0m\u001b[46m\u001b[1m\u001b[30m  .  \u001b[0m\u001b[46m\u001b[1m\u001b[30m  .  \u001b[0m\u001b[46m\u001b[1m\u001b[30m  .  \u001b[0m\u001b[46m\u001b[1m\u001b[30m  .  \u001b[0m\n",
            "\u001b[46m\u001b[1m\u001b[30m  .  \u001b[0m\u001b[44m     \u001b[0m\u001b[46m\u001b[1m\u001b[30m  .  \u001b[0m\u001b[46m\u001b[1m\u001b[30m  █  \u001b[0m\u001b[46m\u001b[1m\u001b[30m  .  \u001b[0m\u001b[46m\u001b[1m\u001b[30m  .  \u001b[0m\u001b[46m\u001b[1m\u001b[30m  .  \u001b[0m\u001b[46m\u001b[1m\u001b[30m  .  \u001b[0m\u001b[46m\u001b[1m\u001b[30m  .  \u001b[0m\u001b[46m\u001b[1m\u001b[30m  .  \u001b[0m\n",
            "\u001b[46m\u001b[1m\u001b[30m  .  \u001b[0m\u001b[46m\u001b[1m\u001b[30m  .  \u001b[0m\u001b[46m\u001b[1m\u001b[30m  .  \u001b[0m\u001b[46m\u001b[1m\u001b[30m  █  \u001b[0m\u001b[46m\u001b[1m\u001b[30m  █  \u001b[0m\u001b[46m\u001b[1m\u001b[30m  .  \u001b[0m\u001b[46m\u001b[1m\u001b[30m  .  \u001b[0m\u001b[46m\u001b[1m\u001b[30m  .  \u001b[0m\u001b[46m\u001b[1m\u001b[30m  .  \u001b[0m\u001b[46m\u001b[1m\u001b[30m  .  \u001b[0m\n",
            "\u001b[46m\u001b[1m\u001b[30m  .  \u001b[0m\u001b[46m\u001b[1m\u001b[30m  .  \u001b[0m\u001b[44m     \u001b[0m\u001b[46m\u001b[1m\u001b[30m  .  \u001b[0m\u001b[46m\u001b[1m\u001b[30m  .  \u001b[0m\u001b[46m\u001b[1m\u001b[30m  .  \u001b[0m\u001b[46m\u001b[1m\u001b[30m  .  \u001b[0m\u001b[46m\u001b[1m\u001b[30m  .  \u001b[0m\u001b[46m\u001b[1m\u001b[30m  .  \u001b[0m\u001b[46m\u001b[1m\u001b[30m  .  \u001b[0m\n",
            "\u001b[46m\u001b[1m\u001b[30m  .  \u001b[0m\u001b[46m\u001b[1m\u001b[30m  .  \u001b[0m\u001b[46m\u001b[1m\u001b[30m  .  \u001b[0m\u001b[46m\u001b[1m\u001b[30m  .  \u001b[0m\u001b[46m\u001b[1m\u001b[30m  .  \u001b[0m\u001b[46m\u001b[1m\u001b[30m  .  \u001b[0m\u001b[46m\u001b[1m\u001b[30m  .  \u001b[0m\u001b[46m\u001b[1m\u001b[30m  .  \u001b[0m\u001b[46m\u001b[1m\u001b[30m  .  \u001b[0m\u001b[46m\u001b[1m\u001b[30m  .  \u001b[0m\n",
            "\u001b[46m\u001b[1m\u001b[30m  .  \u001b[0m\u001b[46m\u001b[1m\u001b[30m  .  \u001b[0m\u001b[46m\u001b[1m\u001b[30m  .  \u001b[0m\u001b[46m\u001b[1m\u001b[30m  .  \u001b[0m\u001b[46m\u001b[1m\u001b[30m  .  \u001b[0m\u001b[46m\u001b[1m\u001b[30m  .  \u001b[0m\u001b[46m\u001b[1m\u001b[30m  .  \u001b[0m\u001b[46m\u001b[1m\u001b[30m  .  \u001b[0m\u001b[46m\u001b[1m\u001b[30m  .  \u001b[0m\u001b[46m\u001b[1m\u001b[30m  .  \u001b[0m\n",
            "\u001b[46m\u001b[1m\u001b[30m  .  \u001b[0m\u001b[46m\u001b[1m\u001b[30m  .  \u001b[0m\u001b[46m\u001b[1m\u001b[30m  .  \u001b[0m\u001b[46m\u001b[1m\u001b[30m  .  \u001b[0m\u001b[46m\u001b[1m\u001b[30m  .  \u001b[0m\u001b[46m\u001b[1m\u001b[30m  .  \u001b[0m\u001b[46m\u001b[1m\u001b[30m  .  \u001b[0m\u001b[46m\u001b[1m\u001b[30m  .  \u001b[0m\u001b[46m\u001b[1m\u001b[30m  .  \u001b[0m\u001b[46m\u001b[1m\u001b[30m  .  \u001b[0m\n",
            "state:  16\n",
            "action: 0\n",
            "\u001b[42m\u001b[1m\u001b[37m     \u001b[0m\u001b[46m\u001b[1m\u001b[30m  .  \u001b[0m\u001b[46m\u001b[1m\u001b[30m  .  \u001b[0m\u001b[46m\u001b[1m\u001b[30m  .  \u001b[0m\u001b[46m\u001b[1m\u001b[30m  .  \u001b[0m\u001b[46m\u001b[1m\u001b[30m  .  \u001b[0m\u001b[46m\u001b[1m\u001b[30m  .  \u001b[0m\u001b[46m\u001b[1m\u001b[30m  .  \u001b[0m\u001b[46m\u001b[1m\u001b[30m  .  \u001b[0m\u001b[46m\u001b[1m\u001b[30m  .  \u001b[0m\n",
            "\u001b[46m\u001b[1m\u001b[30m  .  \u001b[0m\u001b[46m\u001b[1m\u001b[30m  .  \u001b[0m\u001b[46m\u001b[1m\u001b[30m  .  \u001b[0m\u001b[44m     \u001b[0m\u001b[46m\u001b[1m\u001b[30m  .  \u001b[0m\u001b[46m\u001b[1m\u001b[30m  .  \u001b[0m\u001b[46m\u001b[1m\u001b[37m  웃 \u001b[0m\u001b[46m\u001b[1m\u001b[30m  .  \u001b[0m\u001b[46m\u001b[1m\u001b[30m  .  \u001b[0m\u001b[46m\u001b[1m\u001b[30m  .  \u001b[0m\n",
            "\u001b[46m\u001b[1m\u001b[30m  .  \u001b[0m\u001b[46m\u001b[1m\u001b[30m  .  \u001b[0m\u001b[46m\u001b[1m\u001b[30m  .  \u001b[0m\u001b[46m\u001b[1m\u001b[30m  .  \u001b[0m\u001b[46m\u001b[1m\u001b[30m  .  \u001b[0m\u001b[46m\u001b[1m\u001b[30m  .  \u001b[0m\u001b[46m\u001b[1m\u001b[30m  .  \u001b[0m\u001b[46m\u001b[1m\u001b[30m  .  \u001b[0m\u001b[46m\u001b[1m\u001b[30m  .  \u001b[0m\u001b[46m\u001b[1m\u001b[30m  .  \u001b[0m\n",
            "\u001b[46m\u001b[1m\u001b[30m  .  \u001b[0m\u001b[46m\u001b[1m\u001b[30m  .  \u001b[0m\u001b[46m\u001b[1m\u001b[30m  .  \u001b[0m\u001b[46m\u001b[1m\u001b[30m  █  \u001b[0m\u001b[46m\u001b[1m\u001b[30m  █  \u001b[0m\u001b[46m\u001b[1m\u001b[30m  █  \u001b[0m\u001b[46m\u001b[1m\u001b[30m  .  \u001b[0m\u001b[46m\u001b[1m\u001b[30m  .  \u001b[0m\u001b[46m\u001b[1m\u001b[30m  .  \u001b[0m\u001b[46m\u001b[1m\u001b[30m  .  \u001b[0m\n",
            "\u001b[46m\u001b[1m\u001b[30m  .  \u001b[0m\u001b[44m     \u001b[0m\u001b[46m\u001b[1m\u001b[30m  .  \u001b[0m\u001b[46m\u001b[1m\u001b[30m  █  \u001b[0m\u001b[46m\u001b[1m\u001b[30m  .  \u001b[0m\u001b[46m\u001b[1m\u001b[30m  .  \u001b[0m\u001b[46m\u001b[1m\u001b[30m  .  \u001b[0m\u001b[46m\u001b[1m\u001b[30m  .  \u001b[0m\u001b[46m\u001b[1m\u001b[30m  .  \u001b[0m\u001b[46m\u001b[1m\u001b[30m  .  \u001b[0m\n",
            "\u001b[46m\u001b[1m\u001b[30m  .  \u001b[0m\u001b[46m\u001b[1m\u001b[30m  .  \u001b[0m\u001b[46m\u001b[1m\u001b[30m  .  \u001b[0m\u001b[46m\u001b[1m\u001b[30m  █  \u001b[0m\u001b[46m\u001b[1m\u001b[30m  █  \u001b[0m\u001b[46m\u001b[1m\u001b[30m  .  \u001b[0m\u001b[46m\u001b[1m\u001b[30m  .  \u001b[0m\u001b[46m\u001b[1m\u001b[30m  .  \u001b[0m\u001b[46m\u001b[1m\u001b[30m  .  \u001b[0m\u001b[46m\u001b[1m\u001b[30m  .  \u001b[0m\n",
            "\u001b[46m\u001b[1m\u001b[30m  .  \u001b[0m\u001b[46m\u001b[1m\u001b[30m  .  \u001b[0m\u001b[44m     \u001b[0m\u001b[46m\u001b[1m\u001b[30m  .  \u001b[0m\u001b[46m\u001b[1m\u001b[30m  .  \u001b[0m\u001b[46m\u001b[1m\u001b[30m  .  \u001b[0m\u001b[46m\u001b[1m\u001b[30m  .  \u001b[0m\u001b[46m\u001b[1m\u001b[30m  .  \u001b[0m\u001b[46m\u001b[1m\u001b[30m  .  \u001b[0m\u001b[46m\u001b[1m\u001b[30m  .  \u001b[0m\n",
            "\u001b[46m\u001b[1m\u001b[30m  .  \u001b[0m\u001b[46m\u001b[1m\u001b[30m  .  \u001b[0m\u001b[46m\u001b[1m\u001b[30m  .  \u001b[0m\u001b[46m\u001b[1m\u001b[30m  .  \u001b[0m\u001b[46m\u001b[1m\u001b[30m  .  \u001b[0m\u001b[46m\u001b[1m\u001b[30m  .  \u001b[0m\u001b[46m\u001b[1m\u001b[30m  .  \u001b[0m\u001b[46m\u001b[1m\u001b[30m  .  \u001b[0m\u001b[46m\u001b[1m\u001b[30m  .  \u001b[0m\u001b[46m\u001b[1m\u001b[30m  .  \u001b[0m\n",
            "\u001b[46m\u001b[1m\u001b[30m  .  \u001b[0m\u001b[46m\u001b[1m\u001b[30m  .  \u001b[0m\u001b[46m\u001b[1m\u001b[30m  .  \u001b[0m\u001b[46m\u001b[1m\u001b[30m  .  \u001b[0m\u001b[46m\u001b[1m\u001b[30m  .  \u001b[0m\u001b[46m\u001b[1m\u001b[30m  .  \u001b[0m\u001b[46m\u001b[1m\u001b[30m  .  \u001b[0m\u001b[46m\u001b[1m\u001b[30m  .  \u001b[0m\u001b[46m\u001b[1m\u001b[30m  .  \u001b[0m\u001b[46m\u001b[1m\u001b[30m  .  \u001b[0m\n",
            "\u001b[46m\u001b[1m\u001b[30m  .  \u001b[0m\u001b[46m\u001b[1m\u001b[30m  .  \u001b[0m\u001b[46m\u001b[1m\u001b[30m  .  \u001b[0m\u001b[46m\u001b[1m\u001b[30m  .  \u001b[0m\u001b[46m\u001b[1m\u001b[30m  .  \u001b[0m\u001b[46m\u001b[1m\u001b[30m  .  \u001b[0m\u001b[46m\u001b[1m\u001b[30m  .  \u001b[0m\u001b[46m\u001b[1m\u001b[30m  .  \u001b[0m\u001b[46m\u001b[1m\u001b[30m  .  \u001b[0m\u001b[46m\u001b[1m\u001b[30m  .  \u001b[0m\n",
            "state:  6\n",
            "action: 0\n",
            "\u001b[42m\u001b[1m\u001b[37m     \u001b[0m\u001b[46m\u001b[1m\u001b[30m  .  \u001b[0m\u001b[46m\u001b[1m\u001b[30m  .  \u001b[0m\u001b[46m\u001b[1m\u001b[30m  .  \u001b[0m\u001b[46m\u001b[1m\u001b[30m  .  \u001b[0m\u001b[46m\u001b[1m\u001b[30m  .  \u001b[0m\u001b[46m\u001b[1m\u001b[37m  웃 \u001b[0m\u001b[46m\u001b[1m\u001b[30m  .  \u001b[0m\u001b[46m\u001b[1m\u001b[30m  .  \u001b[0m\u001b[46m\u001b[1m\u001b[30m  .  \u001b[0m\n",
            "\u001b[46m\u001b[1m\u001b[30m  .  \u001b[0m\u001b[46m\u001b[1m\u001b[30m  .  \u001b[0m\u001b[46m\u001b[1m\u001b[30m  .  \u001b[0m\u001b[44m     \u001b[0m\u001b[46m\u001b[1m\u001b[30m  .  \u001b[0m\u001b[46m\u001b[1m\u001b[30m  .  \u001b[0m\u001b[46m\u001b[1m\u001b[30m  .  \u001b[0m\u001b[46m\u001b[1m\u001b[30m  .  \u001b[0m\u001b[46m\u001b[1m\u001b[30m  .  \u001b[0m\u001b[46m\u001b[1m\u001b[30m  .  \u001b[0m\n",
            "\u001b[46m\u001b[1m\u001b[30m  .  \u001b[0m\u001b[46m\u001b[1m\u001b[30m  .  \u001b[0m\u001b[46m\u001b[1m\u001b[30m  .  \u001b[0m\u001b[46m\u001b[1m\u001b[30m  .  \u001b[0m\u001b[46m\u001b[1m\u001b[30m  .  \u001b[0m\u001b[46m\u001b[1m\u001b[30m  .  \u001b[0m\u001b[46m\u001b[1m\u001b[30m  .  \u001b[0m\u001b[46m\u001b[1m\u001b[30m  .  \u001b[0m\u001b[46m\u001b[1m\u001b[30m  .  \u001b[0m\u001b[46m\u001b[1m\u001b[30m  .  \u001b[0m\n",
            "\u001b[46m\u001b[1m\u001b[30m  .  \u001b[0m\u001b[46m\u001b[1m\u001b[30m  .  \u001b[0m\u001b[46m\u001b[1m\u001b[30m  .  \u001b[0m\u001b[46m\u001b[1m\u001b[30m  █  \u001b[0m\u001b[46m\u001b[1m\u001b[30m  █  \u001b[0m\u001b[46m\u001b[1m\u001b[30m  █  \u001b[0m\u001b[46m\u001b[1m\u001b[30m  .  \u001b[0m\u001b[46m\u001b[1m\u001b[30m  .  \u001b[0m\u001b[46m\u001b[1m\u001b[30m  .  \u001b[0m\u001b[46m\u001b[1m\u001b[30m  .  \u001b[0m\n",
            "\u001b[46m\u001b[1m\u001b[30m  .  \u001b[0m\u001b[44m     \u001b[0m\u001b[46m\u001b[1m\u001b[30m  .  \u001b[0m\u001b[46m\u001b[1m\u001b[30m  █  \u001b[0m\u001b[46m\u001b[1m\u001b[30m  .  \u001b[0m\u001b[46m\u001b[1m\u001b[30m  .  \u001b[0m\u001b[46m\u001b[1m\u001b[30m  .  \u001b[0m\u001b[46m\u001b[1m\u001b[30m  .  \u001b[0m\u001b[46m\u001b[1m\u001b[30m  .  \u001b[0m\u001b[46m\u001b[1m\u001b[30m  .  \u001b[0m\n",
            "\u001b[46m\u001b[1m\u001b[30m  .  \u001b[0m\u001b[46m\u001b[1m\u001b[30m  .  \u001b[0m\u001b[46m\u001b[1m\u001b[30m  .  \u001b[0m\u001b[46m\u001b[1m\u001b[30m  █  \u001b[0m\u001b[46m\u001b[1m\u001b[30m  █  \u001b[0m\u001b[46m\u001b[1m\u001b[30m  .  \u001b[0m\u001b[46m\u001b[1m\u001b[30m  .  \u001b[0m\u001b[46m\u001b[1m\u001b[30m  .  \u001b[0m\u001b[46m\u001b[1m\u001b[30m  .  \u001b[0m\u001b[46m\u001b[1m\u001b[30m  .  \u001b[0m\n",
            "\u001b[46m\u001b[1m\u001b[30m  .  \u001b[0m\u001b[46m\u001b[1m\u001b[30m  .  \u001b[0m\u001b[44m     \u001b[0m\u001b[46m\u001b[1m\u001b[30m  .  \u001b[0m\u001b[46m\u001b[1m\u001b[30m  .  \u001b[0m\u001b[46m\u001b[1m\u001b[30m  .  \u001b[0m\u001b[46m\u001b[1m\u001b[30m  .  \u001b[0m\u001b[46m\u001b[1m\u001b[30m  .  \u001b[0m\u001b[46m\u001b[1m\u001b[30m  .  \u001b[0m\u001b[46m\u001b[1m\u001b[30m  .  \u001b[0m\n",
            "\u001b[46m\u001b[1m\u001b[30m  .  \u001b[0m\u001b[46m\u001b[1m\u001b[30m  .  \u001b[0m\u001b[46m\u001b[1m\u001b[30m  .  \u001b[0m\u001b[46m\u001b[1m\u001b[30m  .  \u001b[0m\u001b[46m\u001b[1m\u001b[30m  .  \u001b[0m\u001b[46m\u001b[1m\u001b[30m  .  \u001b[0m\u001b[46m\u001b[1m\u001b[30m  .  \u001b[0m\u001b[46m\u001b[1m\u001b[30m  .  \u001b[0m\u001b[46m\u001b[1m\u001b[30m  .  \u001b[0m\u001b[46m\u001b[1m\u001b[30m  .  \u001b[0m\n",
            "\u001b[46m\u001b[1m\u001b[30m  .  \u001b[0m\u001b[46m\u001b[1m\u001b[30m  .  \u001b[0m\u001b[46m\u001b[1m\u001b[30m  .  \u001b[0m\u001b[46m\u001b[1m\u001b[30m  .  \u001b[0m\u001b[46m\u001b[1m\u001b[30m  .  \u001b[0m\u001b[46m\u001b[1m\u001b[30m  .  \u001b[0m\u001b[46m\u001b[1m\u001b[30m  .  \u001b[0m\u001b[46m\u001b[1m\u001b[30m  .  \u001b[0m\u001b[46m\u001b[1m\u001b[30m  .  \u001b[0m\u001b[46m\u001b[1m\u001b[30m  .  \u001b[0m\n",
            "\u001b[46m\u001b[1m\u001b[30m  .  \u001b[0m\u001b[46m\u001b[1m\u001b[30m  .  \u001b[0m\u001b[46m\u001b[1m\u001b[30m  .  \u001b[0m\u001b[46m\u001b[1m\u001b[30m  .  \u001b[0m\u001b[46m\u001b[1m\u001b[30m  .  \u001b[0m\u001b[46m\u001b[1m\u001b[30m  .  \u001b[0m\u001b[46m\u001b[1m\u001b[30m  .  \u001b[0m\u001b[46m\u001b[1m\u001b[30m  .  \u001b[0m\u001b[46m\u001b[1m\u001b[30m  .  \u001b[0m\u001b[46m\u001b[1m\u001b[30m  .  \u001b[0m\n",
            "state:  5\n",
            "action: 3\n",
            "\u001b[42m\u001b[1m\u001b[37m     \u001b[0m\u001b[46m\u001b[1m\u001b[30m  .  \u001b[0m\u001b[46m\u001b[1m\u001b[30m  .  \u001b[0m\u001b[46m\u001b[1m\u001b[30m  .  \u001b[0m\u001b[46m\u001b[1m\u001b[30m  .  \u001b[0m\u001b[46m\u001b[1m\u001b[37m  웃 \u001b[0m\u001b[46m\u001b[1m\u001b[30m  .  \u001b[0m\u001b[46m\u001b[1m\u001b[30m  .  \u001b[0m\u001b[46m\u001b[1m\u001b[30m  .  \u001b[0m\u001b[46m\u001b[1m\u001b[30m  .  \u001b[0m\n",
            "\u001b[46m\u001b[1m\u001b[30m  .  \u001b[0m\u001b[46m\u001b[1m\u001b[30m  .  \u001b[0m\u001b[46m\u001b[1m\u001b[30m  .  \u001b[0m\u001b[44m     \u001b[0m\u001b[46m\u001b[1m\u001b[30m  .  \u001b[0m\u001b[46m\u001b[1m\u001b[30m  .  \u001b[0m\u001b[46m\u001b[1m\u001b[30m  .  \u001b[0m\u001b[46m\u001b[1m\u001b[30m  .  \u001b[0m\u001b[46m\u001b[1m\u001b[30m  .  \u001b[0m\u001b[46m\u001b[1m\u001b[30m  .  \u001b[0m\n",
            "\u001b[46m\u001b[1m\u001b[30m  .  \u001b[0m\u001b[46m\u001b[1m\u001b[30m  .  \u001b[0m\u001b[46m\u001b[1m\u001b[30m  .  \u001b[0m\u001b[46m\u001b[1m\u001b[30m  .  \u001b[0m\u001b[46m\u001b[1m\u001b[30m  .  \u001b[0m\u001b[46m\u001b[1m\u001b[30m  .  \u001b[0m\u001b[46m\u001b[1m\u001b[30m  .  \u001b[0m\u001b[46m\u001b[1m\u001b[30m  .  \u001b[0m\u001b[46m\u001b[1m\u001b[30m  .  \u001b[0m\u001b[46m\u001b[1m\u001b[30m  .  \u001b[0m\n",
            "\u001b[46m\u001b[1m\u001b[30m  .  \u001b[0m\u001b[46m\u001b[1m\u001b[30m  .  \u001b[0m\u001b[46m\u001b[1m\u001b[30m  .  \u001b[0m\u001b[46m\u001b[1m\u001b[30m  █  \u001b[0m\u001b[46m\u001b[1m\u001b[30m  █  \u001b[0m\u001b[46m\u001b[1m\u001b[30m  █  \u001b[0m\u001b[46m\u001b[1m\u001b[30m  .  \u001b[0m\u001b[46m\u001b[1m\u001b[30m  .  \u001b[0m\u001b[46m\u001b[1m\u001b[30m  .  \u001b[0m\u001b[46m\u001b[1m\u001b[30m  .  \u001b[0m\n",
            "\u001b[46m\u001b[1m\u001b[30m  .  \u001b[0m\u001b[44m     \u001b[0m\u001b[46m\u001b[1m\u001b[30m  .  \u001b[0m\u001b[46m\u001b[1m\u001b[30m  █  \u001b[0m\u001b[46m\u001b[1m\u001b[30m  .  \u001b[0m\u001b[46m\u001b[1m\u001b[30m  .  \u001b[0m\u001b[46m\u001b[1m\u001b[30m  .  \u001b[0m\u001b[46m\u001b[1m\u001b[30m  .  \u001b[0m\u001b[46m\u001b[1m\u001b[30m  .  \u001b[0m\u001b[46m\u001b[1m\u001b[30m  .  \u001b[0m\n",
            "\u001b[46m\u001b[1m\u001b[30m  .  \u001b[0m\u001b[46m\u001b[1m\u001b[30m  .  \u001b[0m\u001b[46m\u001b[1m\u001b[30m  .  \u001b[0m\u001b[46m\u001b[1m\u001b[30m  █  \u001b[0m\u001b[46m\u001b[1m\u001b[30m  █  \u001b[0m\u001b[46m\u001b[1m\u001b[30m  .  \u001b[0m\u001b[46m\u001b[1m\u001b[30m  .  \u001b[0m\u001b[46m\u001b[1m\u001b[30m  .  \u001b[0m\u001b[46m\u001b[1m\u001b[30m  .  \u001b[0m\u001b[46m\u001b[1m\u001b[30m  .  \u001b[0m\n",
            "\u001b[46m\u001b[1m\u001b[30m  .  \u001b[0m\u001b[46m\u001b[1m\u001b[30m  .  \u001b[0m\u001b[44m     \u001b[0m\u001b[46m\u001b[1m\u001b[30m  .  \u001b[0m\u001b[46m\u001b[1m\u001b[30m  .  \u001b[0m\u001b[46m\u001b[1m\u001b[30m  .  \u001b[0m\u001b[46m\u001b[1m\u001b[30m  .  \u001b[0m\u001b[46m\u001b[1m\u001b[30m  .  \u001b[0m\u001b[46m\u001b[1m\u001b[30m  .  \u001b[0m\u001b[46m\u001b[1m\u001b[30m  .  \u001b[0m\n",
            "\u001b[46m\u001b[1m\u001b[30m  .  \u001b[0m\u001b[46m\u001b[1m\u001b[30m  .  \u001b[0m\u001b[46m\u001b[1m\u001b[30m  .  \u001b[0m\u001b[46m\u001b[1m\u001b[30m  .  \u001b[0m\u001b[46m\u001b[1m\u001b[30m  .  \u001b[0m\u001b[46m\u001b[1m\u001b[30m  .  \u001b[0m\u001b[46m\u001b[1m\u001b[30m  .  \u001b[0m\u001b[46m\u001b[1m\u001b[30m  .  \u001b[0m\u001b[46m\u001b[1m\u001b[30m  .  \u001b[0m\u001b[46m\u001b[1m\u001b[30m  .  \u001b[0m\n",
            "\u001b[46m\u001b[1m\u001b[30m  .  \u001b[0m\u001b[46m\u001b[1m\u001b[30m  .  \u001b[0m\u001b[46m\u001b[1m\u001b[30m  .  \u001b[0m\u001b[46m\u001b[1m\u001b[30m  .  \u001b[0m\u001b[46m\u001b[1m\u001b[30m  .  \u001b[0m\u001b[46m\u001b[1m\u001b[30m  .  \u001b[0m\u001b[46m\u001b[1m\u001b[30m  .  \u001b[0m\u001b[46m\u001b[1m\u001b[30m  .  \u001b[0m\u001b[46m\u001b[1m\u001b[30m  .  \u001b[0m\u001b[46m\u001b[1m\u001b[30m  .  \u001b[0m\n",
            "\u001b[46m\u001b[1m\u001b[30m  .  \u001b[0m\u001b[46m\u001b[1m\u001b[30m  .  \u001b[0m\u001b[46m\u001b[1m\u001b[30m  .  \u001b[0m\u001b[46m\u001b[1m\u001b[30m  .  \u001b[0m\u001b[46m\u001b[1m\u001b[30m  .  \u001b[0m\u001b[46m\u001b[1m\u001b[30m  .  \u001b[0m\u001b[46m\u001b[1m\u001b[30m  .  \u001b[0m\u001b[46m\u001b[1m\u001b[30m  .  \u001b[0m\u001b[46m\u001b[1m\u001b[30m  .  \u001b[0m\u001b[46m\u001b[1m\u001b[30m  .  \u001b[0m\n",
            "state:  4\n",
            "action: 3\n",
            "\u001b[42m\u001b[1m\u001b[37m     \u001b[0m\u001b[46m\u001b[1m\u001b[30m  .  \u001b[0m\u001b[46m\u001b[1m\u001b[30m  .  \u001b[0m\u001b[46m\u001b[1m\u001b[30m  .  \u001b[0m\u001b[46m\u001b[1m\u001b[37m  웃 \u001b[0m\u001b[46m\u001b[1m\u001b[30m  .  \u001b[0m\u001b[46m\u001b[1m\u001b[30m  .  \u001b[0m\u001b[46m\u001b[1m\u001b[30m  .  \u001b[0m\u001b[46m\u001b[1m\u001b[30m  .  \u001b[0m\u001b[46m\u001b[1m\u001b[30m  .  \u001b[0m\n",
            "\u001b[46m\u001b[1m\u001b[30m  .  \u001b[0m\u001b[46m\u001b[1m\u001b[30m  .  \u001b[0m\u001b[46m\u001b[1m\u001b[30m  .  \u001b[0m\u001b[44m     \u001b[0m\u001b[46m\u001b[1m\u001b[30m  .  \u001b[0m\u001b[46m\u001b[1m\u001b[30m  .  \u001b[0m\u001b[46m\u001b[1m\u001b[30m  .  \u001b[0m\u001b[46m\u001b[1m\u001b[30m  .  \u001b[0m\u001b[46m\u001b[1m\u001b[30m  .  \u001b[0m\u001b[46m\u001b[1m\u001b[30m  .  \u001b[0m\n",
            "\u001b[46m\u001b[1m\u001b[30m  .  \u001b[0m\u001b[46m\u001b[1m\u001b[30m  .  \u001b[0m\u001b[46m\u001b[1m\u001b[30m  .  \u001b[0m\u001b[46m\u001b[1m\u001b[30m  .  \u001b[0m\u001b[46m\u001b[1m\u001b[30m  .  \u001b[0m\u001b[46m\u001b[1m\u001b[30m  .  \u001b[0m\u001b[46m\u001b[1m\u001b[30m  .  \u001b[0m\u001b[46m\u001b[1m\u001b[30m  .  \u001b[0m\u001b[46m\u001b[1m\u001b[30m  .  \u001b[0m\u001b[46m\u001b[1m\u001b[30m  .  \u001b[0m\n",
            "\u001b[46m\u001b[1m\u001b[30m  .  \u001b[0m\u001b[46m\u001b[1m\u001b[30m  .  \u001b[0m\u001b[46m\u001b[1m\u001b[30m  .  \u001b[0m\u001b[46m\u001b[1m\u001b[30m  █  \u001b[0m\u001b[46m\u001b[1m\u001b[30m  █  \u001b[0m\u001b[46m\u001b[1m\u001b[30m  █  \u001b[0m\u001b[46m\u001b[1m\u001b[30m  .  \u001b[0m\u001b[46m\u001b[1m\u001b[30m  .  \u001b[0m\u001b[46m\u001b[1m\u001b[30m  .  \u001b[0m\u001b[46m\u001b[1m\u001b[30m  .  \u001b[0m\n",
            "\u001b[46m\u001b[1m\u001b[30m  .  \u001b[0m\u001b[44m     \u001b[0m\u001b[46m\u001b[1m\u001b[30m  .  \u001b[0m\u001b[46m\u001b[1m\u001b[30m  █  \u001b[0m\u001b[46m\u001b[1m\u001b[30m  .  \u001b[0m\u001b[46m\u001b[1m\u001b[30m  .  \u001b[0m\u001b[46m\u001b[1m\u001b[30m  .  \u001b[0m\u001b[46m\u001b[1m\u001b[30m  .  \u001b[0m\u001b[46m\u001b[1m\u001b[30m  .  \u001b[0m\u001b[46m\u001b[1m\u001b[30m  .  \u001b[0m\n",
            "\u001b[46m\u001b[1m\u001b[30m  .  \u001b[0m\u001b[46m\u001b[1m\u001b[30m  .  \u001b[0m\u001b[46m\u001b[1m\u001b[30m  .  \u001b[0m\u001b[46m\u001b[1m\u001b[30m  █  \u001b[0m\u001b[46m\u001b[1m\u001b[30m  █  \u001b[0m\u001b[46m\u001b[1m\u001b[30m  .  \u001b[0m\u001b[46m\u001b[1m\u001b[30m  .  \u001b[0m\u001b[46m\u001b[1m\u001b[30m  .  \u001b[0m\u001b[46m\u001b[1m\u001b[30m  .  \u001b[0m\u001b[46m\u001b[1m\u001b[30m  .  \u001b[0m\n",
            "\u001b[46m\u001b[1m\u001b[30m  .  \u001b[0m\u001b[46m\u001b[1m\u001b[30m  .  \u001b[0m\u001b[44m     \u001b[0m\u001b[46m\u001b[1m\u001b[30m  .  \u001b[0m\u001b[46m\u001b[1m\u001b[30m  .  \u001b[0m\u001b[46m\u001b[1m\u001b[30m  .  \u001b[0m\u001b[46m\u001b[1m\u001b[30m  .  \u001b[0m\u001b[46m\u001b[1m\u001b[30m  .  \u001b[0m\u001b[46m\u001b[1m\u001b[30m  .  \u001b[0m\u001b[46m\u001b[1m\u001b[30m  .  \u001b[0m\n",
            "\u001b[46m\u001b[1m\u001b[30m  .  \u001b[0m\u001b[46m\u001b[1m\u001b[30m  .  \u001b[0m\u001b[46m\u001b[1m\u001b[30m  .  \u001b[0m\u001b[46m\u001b[1m\u001b[30m  .  \u001b[0m\u001b[46m\u001b[1m\u001b[30m  .  \u001b[0m\u001b[46m\u001b[1m\u001b[30m  .  \u001b[0m\u001b[46m\u001b[1m\u001b[30m  .  \u001b[0m\u001b[46m\u001b[1m\u001b[30m  .  \u001b[0m\u001b[46m\u001b[1m\u001b[30m  .  \u001b[0m\u001b[46m\u001b[1m\u001b[30m  .  \u001b[0m\n",
            "\u001b[46m\u001b[1m\u001b[30m  .  \u001b[0m\u001b[46m\u001b[1m\u001b[30m  .  \u001b[0m\u001b[46m\u001b[1m\u001b[30m  .  \u001b[0m\u001b[46m\u001b[1m\u001b[30m  .  \u001b[0m\u001b[46m\u001b[1m\u001b[30m  .  \u001b[0m\u001b[46m\u001b[1m\u001b[30m  .  \u001b[0m\u001b[46m\u001b[1m\u001b[30m  .  \u001b[0m\u001b[46m\u001b[1m\u001b[30m  .  \u001b[0m\u001b[46m\u001b[1m\u001b[30m  .  \u001b[0m\u001b[46m\u001b[1m\u001b[30m  .  \u001b[0m\n",
            "\u001b[46m\u001b[1m\u001b[30m  .  \u001b[0m\u001b[46m\u001b[1m\u001b[30m  .  \u001b[0m\u001b[46m\u001b[1m\u001b[30m  .  \u001b[0m\u001b[46m\u001b[1m\u001b[30m  .  \u001b[0m\u001b[46m\u001b[1m\u001b[30m  .  \u001b[0m\u001b[46m\u001b[1m\u001b[30m  .  \u001b[0m\u001b[46m\u001b[1m\u001b[30m  .  \u001b[0m\u001b[46m\u001b[1m\u001b[30m  .  \u001b[0m\u001b[46m\u001b[1m\u001b[30m  .  \u001b[0m\u001b[46m\u001b[1m\u001b[30m  .  \u001b[0m\n",
            "state:  3\n",
            "action: 3\n",
            "\u001b[42m\u001b[1m\u001b[37m     \u001b[0m\u001b[46m\u001b[1m\u001b[30m  .  \u001b[0m\u001b[46m\u001b[1m\u001b[30m  .  \u001b[0m\u001b[46m\u001b[1m\u001b[37m  웃 \u001b[0m\u001b[46m\u001b[1m\u001b[30m  .  \u001b[0m\u001b[46m\u001b[1m\u001b[30m  .  \u001b[0m\u001b[46m\u001b[1m\u001b[30m  .  \u001b[0m\u001b[46m\u001b[1m\u001b[30m  .  \u001b[0m\u001b[46m\u001b[1m\u001b[30m  .  \u001b[0m\u001b[46m\u001b[1m\u001b[30m  .  \u001b[0m\n",
            "\u001b[46m\u001b[1m\u001b[30m  .  \u001b[0m\u001b[46m\u001b[1m\u001b[30m  .  \u001b[0m\u001b[46m\u001b[1m\u001b[30m  .  \u001b[0m\u001b[44m     \u001b[0m\u001b[46m\u001b[1m\u001b[30m  .  \u001b[0m\u001b[46m\u001b[1m\u001b[30m  .  \u001b[0m\u001b[46m\u001b[1m\u001b[30m  .  \u001b[0m\u001b[46m\u001b[1m\u001b[30m  .  \u001b[0m\u001b[46m\u001b[1m\u001b[30m  .  \u001b[0m\u001b[46m\u001b[1m\u001b[30m  .  \u001b[0m\n",
            "\u001b[46m\u001b[1m\u001b[30m  .  \u001b[0m\u001b[46m\u001b[1m\u001b[30m  .  \u001b[0m\u001b[46m\u001b[1m\u001b[30m  .  \u001b[0m\u001b[46m\u001b[1m\u001b[30m  .  \u001b[0m\u001b[46m\u001b[1m\u001b[30m  .  \u001b[0m\u001b[46m\u001b[1m\u001b[30m  .  \u001b[0m\u001b[46m\u001b[1m\u001b[30m  .  \u001b[0m\u001b[46m\u001b[1m\u001b[30m  .  \u001b[0m\u001b[46m\u001b[1m\u001b[30m  .  \u001b[0m\u001b[46m\u001b[1m\u001b[30m  .  \u001b[0m\n",
            "\u001b[46m\u001b[1m\u001b[30m  .  \u001b[0m\u001b[46m\u001b[1m\u001b[30m  .  \u001b[0m\u001b[46m\u001b[1m\u001b[30m  .  \u001b[0m\u001b[46m\u001b[1m\u001b[30m  █  \u001b[0m\u001b[46m\u001b[1m\u001b[30m  █  \u001b[0m\u001b[46m\u001b[1m\u001b[30m  █  \u001b[0m\u001b[46m\u001b[1m\u001b[30m  .  \u001b[0m\u001b[46m\u001b[1m\u001b[30m  .  \u001b[0m\u001b[46m\u001b[1m\u001b[30m  .  \u001b[0m\u001b[46m\u001b[1m\u001b[30m  .  \u001b[0m\n",
            "\u001b[46m\u001b[1m\u001b[30m  .  \u001b[0m\u001b[44m     \u001b[0m\u001b[46m\u001b[1m\u001b[30m  .  \u001b[0m\u001b[46m\u001b[1m\u001b[30m  █  \u001b[0m\u001b[46m\u001b[1m\u001b[30m  .  \u001b[0m\u001b[46m\u001b[1m\u001b[30m  .  \u001b[0m\u001b[46m\u001b[1m\u001b[30m  .  \u001b[0m\u001b[46m\u001b[1m\u001b[30m  .  \u001b[0m\u001b[46m\u001b[1m\u001b[30m  .  \u001b[0m\u001b[46m\u001b[1m\u001b[30m  .  \u001b[0m\n",
            "\u001b[46m\u001b[1m\u001b[30m  .  \u001b[0m\u001b[46m\u001b[1m\u001b[30m  .  \u001b[0m\u001b[46m\u001b[1m\u001b[30m  .  \u001b[0m\u001b[46m\u001b[1m\u001b[30m  █  \u001b[0m\u001b[46m\u001b[1m\u001b[30m  █  \u001b[0m\u001b[46m\u001b[1m\u001b[30m  .  \u001b[0m\u001b[46m\u001b[1m\u001b[30m  .  \u001b[0m\u001b[46m\u001b[1m\u001b[30m  .  \u001b[0m\u001b[46m\u001b[1m\u001b[30m  .  \u001b[0m\u001b[46m\u001b[1m\u001b[30m  .  \u001b[0m\n",
            "\u001b[46m\u001b[1m\u001b[30m  .  \u001b[0m\u001b[46m\u001b[1m\u001b[30m  .  \u001b[0m\u001b[44m     \u001b[0m\u001b[46m\u001b[1m\u001b[30m  .  \u001b[0m\u001b[46m\u001b[1m\u001b[30m  .  \u001b[0m\u001b[46m\u001b[1m\u001b[30m  .  \u001b[0m\u001b[46m\u001b[1m\u001b[30m  .  \u001b[0m\u001b[46m\u001b[1m\u001b[30m  .  \u001b[0m\u001b[46m\u001b[1m\u001b[30m  .  \u001b[0m\u001b[46m\u001b[1m\u001b[30m  .  \u001b[0m\n",
            "\u001b[46m\u001b[1m\u001b[30m  .  \u001b[0m\u001b[46m\u001b[1m\u001b[30m  .  \u001b[0m\u001b[46m\u001b[1m\u001b[30m  .  \u001b[0m\u001b[46m\u001b[1m\u001b[30m  .  \u001b[0m\u001b[46m\u001b[1m\u001b[30m  .  \u001b[0m\u001b[46m\u001b[1m\u001b[30m  .  \u001b[0m\u001b[46m\u001b[1m\u001b[30m  .  \u001b[0m\u001b[46m\u001b[1m\u001b[30m  .  \u001b[0m\u001b[46m\u001b[1m\u001b[30m  .  \u001b[0m\u001b[46m\u001b[1m\u001b[30m  .  \u001b[0m\n",
            "\u001b[46m\u001b[1m\u001b[30m  .  \u001b[0m\u001b[46m\u001b[1m\u001b[30m  .  \u001b[0m\u001b[46m\u001b[1m\u001b[30m  .  \u001b[0m\u001b[46m\u001b[1m\u001b[30m  .  \u001b[0m\u001b[46m\u001b[1m\u001b[30m  .  \u001b[0m\u001b[46m\u001b[1m\u001b[30m  .  \u001b[0m\u001b[46m\u001b[1m\u001b[30m  .  \u001b[0m\u001b[46m\u001b[1m\u001b[30m  .  \u001b[0m\u001b[46m\u001b[1m\u001b[30m  .  \u001b[0m\u001b[46m\u001b[1m\u001b[30m  .  \u001b[0m\n",
            "\u001b[46m\u001b[1m\u001b[30m  .  \u001b[0m\u001b[46m\u001b[1m\u001b[30m  .  \u001b[0m\u001b[46m\u001b[1m\u001b[30m  .  \u001b[0m\u001b[46m\u001b[1m\u001b[30m  .  \u001b[0m\u001b[46m\u001b[1m\u001b[30m  .  \u001b[0m\u001b[46m\u001b[1m\u001b[30m  .  \u001b[0m\u001b[46m\u001b[1m\u001b[30m  .  \u001b[0m\u001b[46m\u001b[1m\u001b[30m  .  \u001b[0m\u001b[46m\u001b[1m\u001b[30m  .  \u001b[0m\u001b[46m\u001b[1m\u001b[30m  .  \u001b[0m\n",
            "state:  2\n",
            "action: 3\n",
            "\u001b[42m\u001b[1m\u001b[37m     \u001b[0m\u001b[46m\u001b[1m\u001b[30m  .  \u001b[0m\u001b[46m\u001b[1m\u001b[37m  웃 \u001b[0m\u001b[46m\u001b[1m\u001b[30m  .  \u001b[0m\u001b[46m\u001b[1m\u001b[30m  .  \u001b[0m\u001b[46m\u001b[1m\u001b[30m  .  \u001b[0m\u001b[46m\u001b[1m\u001b[30m  .  \u001b[0m\u001b[46m\u001b[1m\u001b[30m  .  \u001b[0m\u001b[46m\u001b[1m\u001b[30m  .  \u001b[0m\u001b[46m\u001b[1m\u001b[30m  .  \u001b[0m\n",
            "\u001b[46m\u001b[1m\u001b[30m  .  \u001b[0m\u001b[46m\u001b[1m\u001b[30m  .  \u001b[0m\u001b[46m\u001b[1m\u001b[30m  .  \u001b[0m\u001b[44m     \u001b[0m\u001b[46m\u001b[1m\u001b[30m  .  \u001b[0m\u001b[46m\u001b[1m\u001b[30m  .  \u001b[0m\u001b[46m\u001b[1m\u001b[30m  .  \u001b[0m\u001b[46m\u001b[1m\u001b[30m  .  \u001b[0m\u001b[46m\u001b[1m\u001b[30m  .  \u001b[0m\u001b[46m\u001b[1m\u001b[30m  .  \u001b[0m\n",
            "\u001b[46m\u001b[1m\u001b[30m  .  \u001b[0m\u001b[46m\u001b[1m\u001b[30m  .  \u001b[0m\u001b[46m\u001b[1m\u001b[30m  .  \u001b[0m\u001b[46m\u001b[1m\u001b[30m  .  \u001b[0m\u001b[46m\u001b[1m\u001b[30m  .  \u001b[0m\u001b[46m\u001b[1m\u001b[30m  .  \u001b[0m\u001b[46m\u001b[1m\u001b[30m  .  \u001b[0m\u001b[46m\u001b[1m\u001b[30m  .  \u001b[0m\u001b[46m\u001b[1m\u001b[30m  .  \u001b[0m\u001b[46m\u001b[1m\u001b[30m  .  \u001b[0m\n",
            "\u001b[46m\u001b[1m\u001b[30m  .  \u001b[0m\u001b[46m\u001b[1m\u001b[30m  .  \u001b[0m\u001b[46m\u001b[1m\u001b[30m  .  \u001b[0m\u001b[46m\u001b[1m\u001b[30m  █  \u001b[0m\u001b[46m\u001b[1m\u001b[30m  █  \u001b[0m\u001b[46m\u001b[1m\u001b[30m  █  \u001b[0m\u001b[46m\u001b[1m\u001b[30m  .  \u001b[0m\u001b[46m\u001b[1m\u001b[30m  .  \u001b[0m\u001b[46m\u001b[1m\u001b[30m  .  \u001b[0m\u001b[46m\u001b[1m\u001b[30m  .  \u001b[0m\n",
            "\u001b[46m\u001b[1m\u001b[30m  .  \u001b[0m\u001b[44m     \u001b[0m\u001b[46m\u001b[1m\u001b[30m  .  \u001b[0m\u001b[46m\u001b[1m\u001b[30m  █  \u001b[0m\u001b[46m\u001b[1m\u001b[30m  .  \u001b[0m\u001b[46m\u001b[1m\u001b[30m  .  \u001b[0m\u001b[46m\u001b[1m\u001b[30m  .  \u001b[0m\u001b[46m\u001b[1m\u001b[30m  .  \u001b[0m\u001b[46m\u001b[1m\u001b[30m  .  \u001b[0m\u001b[46m\u001b[1m\u001b[30m  .  \u001b[0m\n",
            "\u001b[46m\u001b[1m\u001b[30m  .  \u001b[0m\u001b[46m\u001b[1m\u001b[30m  .  \u001b[0m\u001b[46m\u001b[1m\u001b[30m  .  \u001b[0m\u001b[46m\u001b[1m\u001b[30m  █  \u001b[0m\u001b[46m\u001b[1m\u001b[30m  █  \u001b[0m\u001b[46m\u001b[1m\u001b[30m  .  \u001b[0m\u001b[46m\u001b[1m\u001b[30m  .  \u001b[0m\u001b[46m\u001b[1m\u001b[30m  .  \u001b[0m\u001b[46m\u001b[1m\u001b[30m  .  \u001b[0m\u001b[46m\u001b[1m\u001b[30m  .  \u001b[0m\n",
            "\u001b[46m\u001b[1m\u001b[30m  .  \u001b[0m\u001b[46m\u001b[1m\u001b[30m  .  \u001b[0m\u001b[44m     \u001b[0m\u001b[46m\u001b[1m\u001b[30m  .  \u001b[0m\u001b[46m\u001b[1m\u001b[30m  .  \u001b[0m\u001b[46m\u001b[1m\u001b[30m  .  \u001b[0m\u001b[46m\u001b[1m\u001b[30m  .  \u001b[0m\u001b[46m\u001b[1m\u001b[30m  .  \u001b[0m\u001b[46m\u001b[1m\u001b[30m  .  \u001b[0m\u001b[46m\u001b[1m\u001b[30m  .  \u001b[0m\n",
            "\u001b[46m\u001b[1m\u001b[30m  .  \u001b[0m\u001b[46m\u001b[1m\u001b[30m  .  \u001b[0m\u001b[46m\u001b[1m\u001b[30m  .  \u001b[0m\u001b[46m\u001b[1m\u001b[30m  .  \u001b[0m\u001b[46m\u001b[1m\u001b[30m  .  \u001b[0m\u001b[46m\u001b[1m\u001b[30m  .  \u001b[0m\u001b[46m\u001b[1m\u001b[30m  .  \u001b[0m\u001b[46m\u001b[1m\u001b[30m  .  \u001b[0m\u001b[46m\u001b[1m\u001b[30m  .  \u001b[0m\u001b[46m\u001b[1m\u001b[30m  .  \u001b[0m\n",
            "\u001b[46m\u001b[1m\u001b[30m  .  \u001b[0m\u001b[46m\u001b[1m\u001b[30m  .  \u001b[0m\u001b[46m\u001b[1m\u001b[30m  .  \u001b[0m\u001b[46m\u001b[1m\u001b[30m  .  \u001b[0m\u001b[46m\u001b[1m\u001b[30m  .  \u001b[0m\u001b[46m\u001b[1m\u001b[30m  .  \u001b[0m\u001b[46m\u001b[1m\u001b[30m  .  \u001b[0m\u001b[46m\u001b[1m\u001b[30m  .  \u001b[0m\u001b[46m\u001b[1m\u001b[30m  .  \u001b[0m\u001b[46m\u001b[1m\u001b[30m  .  \u001b[0m\n",
            "\u001b[46m\u001b[1m\u001b[30m  .  \u001b[0m\u001b[46m\u001b[1m\u001b[30m  .  \u001b[0m\u001b[46m\u001b[1m\u001b[30m  .  \u001b[0m\u001b[46m\u001b[1m\u001b[30m  .  \u001b[0m\u001b[46m\u001b[1m\u001b[30m  .  \u001b[0m\u001b[46m\u001b[1m\u001b[30m  .  \u001b[0m\u001b[46m\u001b[1m\u001b[30m  .  \u001b[0m\u001b[46m\u001b[1m\u001b[30m  .  \u001b[0m\u001b[46m\u001b[1m\u001b[30m  .  \u001b[0m\u001b[46m\u001b[1m\u001b[30m  .  \u001b[0m\n",
            "state:  1\n",
            "action: 3\n",
            "\u001b[42m\u001b[1m\u001b[37m     \u001b[0m\u001b[46m\u001b[1m\u001b[37m  웃 \u001b[0m\u001b[46m\u001b[1m\u001b[30m  .  \u001b[0m\u001b[46m\u001b[1m\u001b[30m  .  \u001b[0m\u001b[46m\u001b[1m\u001b[30m  .  \u001b[0m\u001b[46m\u001b[1m\u001b[30m  .  \u001b[0m\u001b[46m\u001b[1m\u001b[30m  .  \u001b[0m\u001b[46m\u001b[1m\u001b[30m  .  \u001b[0m\u001b[46m\u001b[1m\u001b[30m  .  \u001b[0m\u001b[46m\u001b[1m\u001b[30m  .  \u001b[0m\n",
            "\u001b[46m\u001b[1m\u001b[30m  .  \u001b[0m\u001b[46m\u001b[1m\u001b[30m  .  \u001b[0m\u001b[46m\u001b[1m\u001b[30m  .  \u001b[0m\u001b[44m     \u001b[0m\u001b[46m\u001b[1m\u001b[30m  .  \u001b[0m\u001b[46m\u001b[1m\u001b[30m  .  \u001b[0m\u001b[46m\u001b[1m\u001b[30m  .  \u001b[0m\u001b[46m\u001b[1m\u001b[30m  .  \u001b[0m\u001b[46m\u001b[1m\u001b[30m  .  \u001b[0m\u001b[46m\u001b[1m\u001b[30m  .  \u001b[0m\n",
            "\u001b[46m\u001b[1m\u001b[30m  .  \u001b[0m\u001b[46m\u001b[1m\u001b[30m  .  \u001b[0m\u001b[46m\u001b[1m\u001b[30m  .  \u001b[0m\u001b[46m\u001b[1m\u001b[30m  .  \u001b[0m\u001b[46m\u001b[1m\u001b[30m  .  \u001b[0m\u001b[46m\u001b[1m\u001b[30m  .  \u001b[0m\u001b[46m\u001b[1m\u001b[30m  .  \u001b[0m\u001b[46m\u001b[1m\u001b[30m  .  \u001b[0m\u001b[46m\u001b[1m\u001b[30m  .  \u001b[0m\u001b[46m\u001b[1m\u001b[30m  .  \u001b[0m\n",
            "\u001b[46m\u001b[1m\u001b[30m  .  \u001b[0m\u001b[46m\u001b[1m\u001b[30m  .  \u001b[0m\u001b[46m\u001b[1m\u001b[30m  .  \u001b[0m\u001b[46m\u001b[1m\u001b[30m  █  \u001b[0m\u001b[46m\u001b[1m\u001b[30m  █  \u001b[0m\u001b[46m\u001b[1m\u001b[30m  █  \u001b[0m\u001b[46m\u001b[1m\u001b[30m  .  \u001b[0m\u001b[46m\u001b[1m\u001b[30m  .  \u001b[0m\u001b[46m\u001b[1m\u001b[30m  .  \u001b[0m\u001b[46m\u001b[1m\u001b[30m  .  \u001b[0m\n",
            "\u001b[46m\u001b[1m\u001b[30m  .  \u001b[0m\u001b[44m     \u001b[0m\u001b[46m\u001b[1m\u001b[30m  .  \u001b[0m\u001b[46m\u001b[1m\u001b[30m  █  \u001b[0m\u001b[46m\u001b[1m\u001b[30m  .  \u001b[0m\u001b[46m\u001b[1m\u001b[30m  .  \u001b[0m\u001b[46m\u001b[1m\u001b[30m  .  \u001b[0m\u001b[46m\u001b[1m\u001b[30m  .  \u001b[0m\u001b[46m\u001b[1m\u001b[30m  .  \u001b[0m\u001b[46m\u001b[1m\u001b[30m  .  \u001b[0m\n",
            "\u001b[46m\u001b[1m\u001b[30m  .  \u001b[0m\u001b[46m\u001b[1m\u001b[30m  .  \u001b[0m\u001b[46m\u001b[1m\u001b[30m  .  \u001b[0m\u001b[46m\u001b[1m\u001b[30m  █  \u001b[0m\u001b[46m\u001b[1m\u001b[30m  █  \u001b[0m\u001b[46m\u001b[1m\u001b[30m  .  \u001b[0m\u001b[46m\u001b[1m\u001b[30m  .  \u001b[0m\u001b[46m\u001b[1m\u001b[30m  .  \u001b[0m\u001b[46m\u001b[1m\u001b[30m  .  \u001b[0m\u001b[46m\u001b[1m\u001b[30m  .  \u001b[0m\n",
            "\u001b[46m\u001b[1m\u001b[30m  .  \u001b[0m\u001b[46m\u001b[1m\u001b[30m  .  \u001b[0m\u001b[44m     \u001b[0m\u001b[46m\u001b[1m\u001b[30m  .  \u001b[0m\u001b[46m\u001b[1m\u001b[30m  .  \u001b[0m\u001b[46m\u001b[1m\u001b[30m  .  \u001b[0m\u001b[46m\u001b[1m\u001b[30m  .  \u001b[0m\u001b[46m\u001b[1m\u001b[30m  .  \u001b[0m\u001b[46m\u001b[1m\u001b[30m  .  \u001b[0m\u001b[46m\u001b[1m\u001b[30m  .  \u001b[0m\n",
            "\u001b[46m\u001b[1m\u001b[30m  .  \u001b[0m\u001b[46m\u001b[1m\u001b[30m  .  \u001b[0m\u001b[46m\u001b[1m\u001b[30m  .  \u001b[0m\u001b[46m\u001b[1m\u001b[30m  .  \u001b[0m\u001b[46m\u001b[1m\u001b[30m  .  \u001b[0m\u001b[46m\u001b[1m\u001b[30m  .  \u001b[0m\u001b[46m\u001b[1m\u001b[30m  .  \u001b[0m\u001b[46m\u001b[1m\u001b[30m  .  \u001b[0m\u001b[46m\u001b[1m\u001b[30m  .  \u001b[0m\u001b[46m\u001b[1m\u001b[30m  .  \u001b[0m\n",
            "\u001b[46m\u001b[1m\u001b[30m  .  \u001b[0m\u001b[46m\u001b[1m\u001b[30m  .  \u001b[0m\u001b[46m\u001b[1m\u001b[30m  .  \u001b[0m\u001b[46m\u001b[1m\u001b[30m  .  \u001b[0m\u001b[46m\u001b[1m\u001b[30m  .  \u001b[0m\u001b[46m\u001b[1m\u001b[30m  .  \u001b[0m\u001b[46m\u001b[1m\u001b[30m  .  \u001b[0m\u001b[46m\u001b[1m\u001b[30m  .  \u001b[0m\u001b[46m\u001b[1m\u001b[30m  .  \u001b[0m\u001b[46m\u001b[1m\u001b[30m  .  \u001b[0m\n",
            "\u001b[46m\u001b[1m\u001b[30m  .  \u001b[0m\u001b[46m\u001b[1m\u001b[30m  .  \u001b[0m\u001b[46m\u001b[1m\u001b[30m  .  \u001b[0m\u001b[46m\u001b[1m\u001b[30m  .  \u001b[0m\u001b[46m\u001b[1m\u001b[30m  .  \u001b[0m\u001b[46m\u001b[1m\u001b[30m  .  \u001b[0m\u001b[46m\u001b[1m\u001b[30m  .  \u001b[0m\u001b[46m\u001b[1m\u001b[30m  .  \u001b[0m\u001b[46m\u001b[1m\u001b[30m  .  \u001b[0m\u001b[46m\u001b[1m\u001b[30m  .  \u001b[0m\n",
            "state:  0\n",
            "action: 3\n",
            "\u001b[42m\u001b[1m\u001b[37m  웃 \u001b[0m\u001b[46m\u001b[1m\u001b[30m  .  \u001b[0m\u001b[46m\u001b[1m\u001b[30m  .  \u001b[0m\u001b[46m\u001b[1m\u001b[30m  .  \u001b[0m\u001b[46m\u001b[1m\u001b[30m  .  \u001b[0m\u001b[46m\u001b[1m\u001b[30m  .  \u001b[0m\u001b[46m\u001b[1m\u001b[30m  .  \u001b[0m\u001b[46m\u001b[1m\u001b[30m  .  \u001b[0m\u001b[46m\u001b[1m\u001b[30m  .  \u001b[0m\u001b[46m\u001b[1m\u001b[30m  .  \u001b[0m\n",
            "\u001b[46m\u001b[1m\u001b[30m  .  \u001b[0m\u001b[46m\u001b[1m\u001b[30m  .  \u001b[0m\u001b[46m\u001b[1m\u001b[30m  .  \u001b[0m\u001b[44m     \u001b[0m\u001b[46m\u001b[1m\u001b[30m  .  \u001b[0m\u001b[46m\u001b[1m\u001b[30m  .  \u001b[0m\u001b[46m\u001b[1m\u001b[30m  .  \u001b[0m\u001b[46m\u001b[1m\u001b[30m  .  \u001b[0m\u001b[46m\u001b[1m\u001b[30m  .  \u001b[0m\u001b[46m\u001b[1m\u001b[30m  .  \u001b[0m\n",
            "\u001b[46m\u001b[1m\u001b[30m  .  \u001b[0m\u001b[46m\u001b[1m\u001b[30m  .  \u001b[0m\u001b[46m\u001b[1m\u001b[30m  .  \u001b[0m\u001b[46m\u001b[1m\u001b[30m  .  \u001b[0m\u001b[46m\u001b[1m\u001b[30m  .  \u001b[0m\u001b[46m\u001b[1m\u001b[30m  .  \u001b[0m\u001b[46m\u001b[1m\u001b[30m  .  \u001b[0m\u001b[46m\u001b[1m\u001b[30m  .  \u001b[0m\u001b[46m\u001b[1m\u001b[30m  .  \u001b[0m\u001b[46m\u001b[1m\u001b[30m  .  \u001b[0m\n",
            "\u001b[46m\u001b[1m\u001b[30m  .  \u001b[0m\u001b[46m\u001b[1m\u001b[30m  .  \u001b[0m\u001b[46m\u001b[1m\u001b[30m  .  \u001b[0m\u001b[46m\u001b[1m\u001b[30m  █  \u001b[0m\u001b[46m\u001b[1m\u001b[30m  █  \u001b[0m\u001b[46m\u001b[1m\u001b[30m  █  \u001b[0m\u001b[46m\u001b[1m\u001b[30m  .  \u001b[0m\u001b[46m\u001b[1m\u001b[30m  .  \u001b[0m\u001b[46m\u001b[1m\u001b[30m  .  \u001b[0m\u001b[46m\u001b[1m\u001b[30m  .  \u001b[0m\n",
            "\u001b[46m\u001b[1m\u001b[30m  .  \u001b[0m\u001b[44m     \u001b[0m\u001b[46m\u001b[1m\u001b[30m  .  \u001b[0m\u001b[46m\u001b[1m\u001b[30m  █  \u001b[0m\u001b[46m\u001b[1m\u001b[30m  .  \u001b[0m\u001b[46m\u001b[1m\u001b[30m  .  \u001b[0m\u001b[46m\u001b[1m\u001b[30m  .  \u001b[0m\u001b[46m\u001b[1m\u001b[30m  .  \u001b[0m\u001b[46m\u001b[1m\u001b[30m  .  \u001b[0m\u001b[46m\u001b[1m\u001b[30m  .  \u001b[0m\n",
            "\u001b[46m\u001b[1m\u001b[30m  .  \u001b[0m\u001b[46m\u001b[1m\u001b[30m  .  \u001b[0m\u001b[46m\u001b[1m\u001b[30m  .  \u001b[0m\u001b[46m\u001b[1m\u001b[30m  █  \u001b[0m\u001b[46m\u001b[1m\u001b[30m  █  \u001b[0m\u001b[46m\u001b[1m\u001b[30m  .  \u001b[0m\u001b[46m\u001b[1m\u001b[30m  .  \u001b[0m\u001b[46m\u001b[1m\u001b[30m  .  \u001b[0m\u001b[46m\u001b[1m\u001b[30m  .  \u001b[0m\u001b[46m\u001b[1m\u001b[30m  .  \u001b[0m\n",
            "\u001b[46m\u001b[1m\u001b[30m  .  \u001b[0m\u001b[46m\u001b[1m\u001b[30m  .  \u001b[0m\u001b[44m     \u001b[0m\u001b[46m\u001b[1m\u001b[30m  .  \u001b[0m\u001b[46m\u001b[1m\u001b[30m  .  \u001b[0m\u001b[46m\u001b[1m\u001b[30m  .  \u001b[0m\u001b[46m\u001b[1m\u001b[30m  .  \u001b[0m\u001b[46m\u001b[1m\u001b[30m  .  \u001b[0m\u001b[46m\u001b[1m\u001b[30m  .  \u001b[0m\u001b[46m\u001b[1m\u001b[30m  .  \u001b[0m\n",
            "\u001b[46m\u001b[1m\u001b[30m  .  \u001b[0m\u001b[46m\u001b[1m\u001b[30m  .  \u001b[0m\u001b[46m\u001b[1m\u001b[30m  .  \u001b[0m\u001b[46m\u001b[1m\u001b[30m  .  \u001b[0m\u001b[46m\u001b[1m\u001b[30m  .  \u001b[0m\u001b[46m\u001b[1m\u001b[30m  .  \u001b[0m\u001b[46m\u001b[1m\u001b[30m  .  \u001b[0m\u001b[46m\u001b[1m\u001b[30m  .  \u001b[0m\u001b[46m\u001b[1m\u001b[30m  .  \u001b[0m\u001b[46m\u001b[1m\u001b[30m  .  \u001b[0m\n",
            "\u001b[46m\u001b[1m\u001b[30m  .  \u001b[0m\u001b[46m\u001b[1m\u001b[30m  .  \u001b[0m\u001b[46m\u001b[1m\u001b[30m  .  \u001b[0m\u001b[46m\u001b[1m\u001b[30m  .  \u001b[0m\u001b[46m\u001b[1m\u001b[30m  .  \u001b[0m\u001b[46m\u001b[1m\u001b[30m  .  \u001b[0m\u001b[46m\u001b[1m\u001b[30m  .  \u001b[0m\u001b[46m\u001b[1m\u001b[30m  .  \u001b[0m\u001b[46m\u001b[1m\u001b[30m  .  \u001b[0m\u001b[46m\u001b[1m\u001b[30m  .  \u001b[0m\n",
            "\u001b[46m\u001b[1m\u001b[30m  .  \u001b[0m\u001b[46m\u001b[1m\u001b[30m  .  \u001b[0m\u001b[46m\u001b[1m\u001b[30m  .  \u001b[0m\u001b[46m\u001b[1m\u001b[30m  .  \u001b[0m\u001b[46m\u001b[1m\u001b[30m  .  \u001b[0m\u001b[46m\u001b[1m\u001b[30m  .  \u001b[0m\u001b[46m\u001b[1m\u001b[30m  .  \u001b[0m\u001b[46m\u001b[1m\u001b[30m  .  \u001b[0m\u001b[46m\u001b[1m\u001b[30m  .  \u001b[0m\u001b[46m\u001b[1m\u001b[30m  .  \u001b[0m\n"
          ]
        }
      ]
    },
    {
      "cell_type": "code",
      "source": [
        "# testing convergence with more decay probability\n",
        "# initilize Q table\n",
        "Q_table = np.zeros((env.observation_space.n,env.action_space.n))\n",
        "# parameters\n",
        "decay = 0.99\n",
        "gamma = 0.99\n",
        "learning_rate = 0.5\n",
        "prob_epi=1.0\n",
        "epi_rewards=[]\n",
        "for _ in range(10000):\n",
        "    current_state = env.reset()\n",
        "    done = False\n",
        "    sum_rewards_epi = 0\n",
        "    iters=1\n",
        "    for _ in range(100):\n",
        "        if  prob_epi > np.random.rand() :\n",
        "            action = env.action_space.sample()\n",
        "        else:\n",
        "            action = np.argmax(Q_table[current_state,:])\n",
        "        next_state, reward, done, _ = env.step(action)\n",
        "        Q_table[current_state, action] = (1-learning_rate) * Q_table[current_state, action] +learning_rate*(reward + gamma*max(Q_table[next_state,:]))\n",
        "        sum_rewards_epi = sum_rewards_epi + reward\n",
        "        if done:\n",
        "            _, reward, _, _ = env.step(0)\n",
        "            Q_table[current_state, action] = (1-learning_rate) * Q_table[current_state, action] +learning_rate*(reward + gamma*max(Q_table[next_state,:]))\n",
        "            sum_rewards_epi += reward\n",
        "            break\n",
        "        if reward==-10:\n",
        "          current_state=env.reset()\n",
        "        else:\n",
        "          current_state = next_state\n",
        "    prob_epi*=decay\n",
        "    prob_epi = max(0.001, prob_epi)\n",
        "    epi_rewards.append(sum_rewards_epi)"
      ],
      "metadata": {
        "id": "m_qrocJ8aolr"
      },
      "execution_count": 9,
      "outputs": []
    },
    {
      "cell_type": "code",
      "source": [
        "plt.plot(epi_rewards,'g')\n",
        "plt.xlabel(\"episodes\")\n",
        "plt.ylabel(\"total rewards\")\n",
        "plt.title(\"0.99 decay rate\")\n",
        "plt.show()"
      ],
      "metadata": {
        "colab": {
          "base_uri": "https://localhost:8080/",
          "height": 295
        },
        "id": "eYHxe4zma3gw",
        "outputId": "6a5f425c-584a-4186-d091-ee7e8c84b738"
      },
      "execution_count": 10,
      "outputs": [
        {
          "output_type": "display_data",
          "data": {
            "image/png": "[encoded data removed]",
            "text/plain": [
              "<Figure size 432x288 with 1 Axes>"
            ]
          },
          "metadata": {
            "needs_background": "light"
          }
        }
      ]
    },
    {
      "cell_type": "code",
      "source": [
        "# testing convergence with more end reward\n",
        "# initilize Q table\n",
        "Q_table = np.zeros((env.observation_space.n,env.action_space.n))\n",
        "# parameters\n",
        "decay = 0.999\n",
        "gamma = 0.99\n",
        "learning_rate = 0.5\n",
        "prob_epi=1.0\n",
        "epi_rewards=[]\n",
        "for _ in range(10000):\n",
        "    current_state = env.reset()\n",
        "    done = False\n",
        "    sum_rewards_epi = 0\n",
        "    iters=1\n",
        "    for _ in range(100):\n",
        "        if  prob_epi > np.random.rand() :\n",
        "            action = env.action_space.sample()\n",
        "        else:\n",
        "            action = np.argmax(Q_table[current_state,:])\n",
        "        next_state, reward, done, _ = env.step(action)\n",
        "        Q_table[current_state, action] = (1-learning_rate) * Q_table[current_state, action] +learning_rate*(reward + gamma*max(Q_table[next_state,:]))\n",
        "        sum_rewards_epi = sum_rewards_epi + reward\n",
        "        if done:\n",
        "            _, reward, _, _ = env.step(0)\n",
        "            reward=10\n",
        "            Q_table[current_state, action] = (1-learning_rate) * Q_table[current_state, action] +learning_rate*(reward + gamma*max(Q_table[next_state,:]))\n",
        "            sum_rewards_epi += reward\n",
        "            break\n",
        "        if reward==-10:\n",
        "          current_state=env.reset()\n",
        "        else:\n",
        "          current_state = next_state\n",
        "    prob_epi*=decay\n",
        "    prob_epi = max(0.001, prob_epi)\n",
        "    epi_rewards.append(sum_rewards_epi)"
      ],
      "metadata": {
        "id": "z2ZsBCWlcags"
      },
      "execution_count": 11,
      "outputs": []
    },
    {
      "cell_type": "code",
      "source": [
        "plt.plot(epi_rewards,'r')\n",
        "plt.xlabel(\"episodes\")\n",
        "plt.ylabel(\"total rewards\")\n",
        "plt.title(\"10 reward for reaching end\")\n",
        "plt.show()\n",
        "print(epi_rewards[9999])"
      ],
      "metadata": {
        "colab": {
          "base_uri": "https://localhost:8080/",
          "height": 315
        },
        "id": "5ekDFPOdca9J",
        "outputId": "72fe471a-fcfb-4ebd-af3f-bbe911e79f35"
      },
      "execution_count": 12,
      "outputs": [
        {
          "output_type": "display_data",
          "data": {
            "image/png": "[encoded data removed]",
            "text/plain": [
              "<Figure size 432x288 with 1 Axes>"
            ]
          },
          "metadata": {
            "needs_background": "light"
          }
        },
        {
          "output_type": "stream",
          "name": "stdout",
          "text": [
            "10.0\n"
          ]
        }
      ]
    },
    {
      "cell_type": "code",
      "source": [
        "# testing convergence with punishment for steps\n",
        "# initilize Q table\n",
        "Q_table = np.zeros((env.observation_space.n,env.action_space.n))\n",
        "# parameters\n",
        "decay = 0.999\n",
        "gamma = 0.99\n",
        "learning_rate = 0.5\n",
        "prob_epi=1.0\n",
        "epi_rewards=[]\n",
        "iters_epi=[]\n",
        "for _ in range(10000):\n",
        "    current_state = env.reset()\n",
        "    done = False\n",
        "    sum_rewards_epi = 0\n",
        "    iters=1\n",
        "    for i in range(100):\n",
        "        if  prob_epi > np.random.rand() :\n",
        "            action = env.action_space.sample()\n",
        "        else:\n",
        "            action = np.argmax(Q_table[current_state,:])\n",
        "        next_state, reward, done, _ = env.step(action)\n",
        "        if reward == 0:\n",
        "          reward=-0.1\n",
        "        Q_table[current_state, action] = (1-learning_rate) * Q_table[current_state, action] +learning_rate*(reward + gamma*max(Q_table[next_state,:]))\n",
        "        sum_rewards_epi = sum_rewards_epi + reward\n",
        "        if done:\n",
        "            _, reward, _, _ = env.step(0)\n",
        "            Q_table[current_state, action] = (1-learning_rate) * Q_table[current_state, action] +learning_rate*(reward + gamma*max(Q_table[next_state,:]))\n",
        "            sum_rewards_epi += reward\n",
        "            break\n",
        "        if reward==-10:\n",
        "          current_state=env.reset()\n",
        "        else:\n",
        "          current_state = next_state\n",
        "    iters_epi.append(i)\n",
        "    prob_epi*=decay\n",
        "    prob_epi = max(0.001, prob_epi)\n",
        "    epi_rewards.append(sum_rewards_epi)"
      ],
      "metadata": {
        "id": "gfbBG4QUeOn-"
      },
      "execution_count": 13,
      "outputs": []
    },
    {
      "cell_type": "code",
      "source": [
        "plt.plot(epi_rewards,'c')\n",
        "plt.xlabel(\"episodes\")\n",
        "plt.ylabel(\"total rewards\")\n",
        "plt.title(\"0.1 reward for each step\")\n",
        "plt.show()\n",
        "print(epi_rewards[9999])"
      ],
      "metadata": {
        "colab": {
          "base_uri": "https://localhost:8080/",
          "height": 315
        },
        "id": "XLCTxf28ePUm",
        "outputId": "05a51e4b-947c-41a4-89a2-9b88eca55756"
      },
      "execution_count": 14,
      "outputs": [
        {
          "output_type": "display_data",
          "data": {
            "image/png": "[encoded data removed]",
            "text/plain": [
              "<Figure size 432x288 with 1 Axes>"
            ]
          },
          "metadata": {
            "needs_background": "light"
          }
        },
        {
          "output_type": "stream",
          "name": "stdout",
          "text": [
            "-0.19999999999999996\n"
          ]
        }
      ]
    }
  ]
}